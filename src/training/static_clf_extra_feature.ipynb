{
 "cells": [
  {
   "cell_type": "code",
   "execution_count": null,
   "metadata": {
    "collapsed": true
   },
   "outputs": [],
   "source": []
  },
  {
   "cell_type": "code",
   "execution_count": 1,
   "outputs": [],
   "source": [
    "import numpy as np\n",
    "import pandas as pd\n",
    "from sklearn.model_selection import train_test_split\n",
    "from sklearn.preprocessing import StandardScaler\n",
    "from sklearn.ensemble import RandomForestClassifier\n",
    "from sklearn.metrics import precision_score, recall_score, f1_score, accuracy_score\n",
    "from sklearn.metrics import confusion_matrix\n",
    "import matplotlib.pyplot as plt\n",
    "from collections import Counter\n",
    "from imblearn.over_sampling import RandomOverSampler, SMOTE\n",
    "from imblearn.under_sampling import RandomUnderSampler,NearMiss"
   ],
   "metadata": {
    "collapsed": false
   }
  },
  {
   "cell_type": "markdown",
   "source": [
    "https://www.analyticsvidhya.com/blog/2017/03/imbalanced-data-classification/\n",
    "https://stackoverflow.com/questions/55921286/should-i-balance-the-test-set-when-i-have-highly-unbalanced-data\n"
   ],
   "metadata": {
    "collapsed": false
   }
  },
  {
   "cell_type": "code",
   "execution_count": 5,
   "outputs": [
    {
     "data": {
      "text/plain": "   Unnamed: 0        V1        V2        V3        V4        V5        V6  \\\n0           0 -1.359807 -0.072781  2.536347  1.378155 -0.338321  0.462388   \n1           1  1.191857  0.266151  0.166480  0.448154  0.060018 -0.082361   \n2           2 -1.358354 -1.340163  1.773209  0.379780 -0.503198  1.800499   \n3           3 -0.966272 -0.185226  1.792993 -0.863291 -0.010309  1.247203   \n4           4 -1.158233  0.877737  1.548718  0.403034 -0.407193  0.095921   \n\n         V7        V8        V9  ...       V25       V26       V27       V28  \\\n0  0.239599  0.098698  0.363787  ...  0.128539 -0.189115  0.133558 -0.021053   \n1 -0.078803  0.085102 -0.255425  ...  0.167170  0.125895 -0.008983  0.014724   \n2  0.791461  0.247676 -1.514654  ... -0.327642 -0.139097 -0.055353 -0.059752   \n3  0.237609  0.377436 -1.387024  ...  0.647376 -0.221929  0.062723  0.061458   \n4  0.592941 -0.270533  0.817739  ... -0.206010  0.502292  0.219422  0.215153   \n\n   Class  inversed_dist  fraud_neighbor_count  community_risk  \\\n0      0            0.0                     0        0.002786   \n1      0            0.0                     0        0.000000   \n2      0            0.0                     0        0.000000   \n3      0            0.0                     0        0.001603   \n4      0            0.0                     0        0.002786   \n\n   personalized_page_rank  normAmount  \n0                0.000177    0.244964  \n1                0.000359   -0.342475  \n2                0.000047    1.160686  \n3                0.000064    0.140534  \n4                0.000136   -0.073403  \n\n[5 rows x 35 columns]",
      "text/html": "<div>\n<style scoped>\n    .dataframe tbody tr th:only-of-type {\n        vertical-align: middle;\n    }\n\n    .dataframe tbody tr th {\n        vertical-align: top;\n    }\n\n    .dataframe thead th {\n        text-align: right;\n    }\n</style>\n<table border=\"1\" class=\"dataframe\">\n  <thead>\n    <tr style=\"text-align: right;\">\n      <th></th>\n      <th>Unnamed: 0</th>\n      <th>V1</th>\n      <th>V2</th>\n      <th>V3</th>\n      <th>V4</th>\n      <th>V5</th>\n      <th>V6</th>\n      <th>V7</th>\n      <th>V8</th>\n      <th>V9</th>\n      <th>...</th>\n      <th>V25</th>\n      <th>V26</th>\n      <th>V27</th>\n      <th>V28</th>\n      <th>Class</th>\n      <th>inversed_dist</th>\n      <th>fraud_neighbor_count</th>\n      <th>community_risk</th>\n      <th>personalized_page_rank</th>\n      <th>normAmount</th>\n    </tr>\n  </thead>\n  <tbody>\n    <tr>\n      <th>0</th>\n      <td>0</td>\n      <td>-1.359807</td>\n      <td>-0.072781</td>\n      <td>2.536347</td>\n      <td>1.378155</td>\n      <td>-0.338321</td>\n      <td>0.462388</td>\n      <td>0.239599</td>\n      <td>0.098698</td>\n      <td>0.363787</td>\n      <td>...</td>\n      <td>0.128539</td>\n      <td>-0.189115</td>\n      <td>0.133558</td>\n      <td>-0.021053</td>\n      <td>0</td>\n      <td>0.0</td>\n      <td>0</td>\n      <td>0.002786</td>\n      <td>0.000177</td>\n      <td>0.244964</td>\n    </tr>\n    <tr>\n      <th>1</th>\n      <td>1</td>\n      <td>1.191857</td>\n      <td>0.266151</td>\n      <td>0.166480</td>\n      <td>0.448154</td>\n      <td>0.060018</td>\n      <td>-0.082361</td>\n      <td>-0.078803</td>\n      <td>0.085102</td>\n      <td>-0.255425</td>\n      <td>...</td>\n      <td>0.167170</td>\n      <td>0.125895</td>\n      <td>-0.008983</td>\n      <td>0.014724</td>\n      <td>0</td>\n      <td>0.0</td>\n      <td>0</td>\n      <td>0.000000</td>\n      <td>0.000359</td>\n      <td>-0.342475</td>\n    </tr>\n    <tr>\n      <th>2</th>\n      <td>2</td>\n      <td>-1.358354</td>\n      <td>-1.340163</td>\n      <td>1.773209</td>\n      <td>0.379780</td>\n      <td>-0.503198</td>\n      <td>1.800499</td>\n      <td>0.791461</td>\n      <td>0.247676</td>\n      <td>-1.514654</td>\n      <td>...</td>\n      <td>-0.327642</td>\n      <td>-0.139097</td>\n      <td>-0.055353</td>\n      <td>-0.059752</td>\n      <td>0</td>\n      <td>0.0</td>\n      <td>0</td>\n      <td>0.000000</td>\n      <td>0.000047</td>\n      <td>1.160686</td>\n    </tr>\n    <tr>\n      <th>3</th>\n      <td>3</td>\n      <td>-0.966272</td>\n      <td>-0.185226</td>\n      <td>1.792993</td>\n      <td>-0.863291</td>\n      <td>-0.010309</td>\n      <td>1.247203</td>\n      <td>0.237609</td>\n      <td>0.377436</td>\n      <td>-1.387024</td>\n      <td>...</td>\n      <td>0.647376</td>\n      <td>-0.221929</td>\n      <td>0.062723</td>\n      <td>0.061458</td>\n      <td>0</td>\n      <td>0.0</td>\n      <td>0</td>\n      <td>0.001603</td>\n      <td>0.000064</td>\n      <td>0.140534</td>\n    </tr>\n    <tr>\n      <th>4</th>\n      <td>4</td>\n      <td>-1.158233</td>\n      <td>0.877737</td>\n      <td>1.548718</td>\n      <td>0.403034</td>\n      <td>-0.407193</td>\n      <td>0.095921</td>\n      <td>0.592941</td>\n      <td>-0.270533</td>\n      <td>0.817739</td>\n      <td>...</td>\n      <td>-0.206010</td>\n      <td>0.502292</td>\n      <td>0.219422</td>\n      <td>0.215153</td>\n      <td>0</td>\n      <td>0.0</td>\n      <td>0</td>\n      <td>0.002786</td>\n      <td>0.000136</td>\n      <td>-0.073403</td>\n    </tr>\n  </tbody>\n</table>\n<p>5 rows × 35 columns</p>\n</div>"
     },
     "execution_count": 5,
     "metadata": {},
     "output_type": "execute_result"
    }
   ],
   "source": [
    "df = pd.read_csv(\"../../data/final/trans_fraud_extra_2022-10-31_12:38:18.csv\")\n",
    "df['normAmount'] = StandardScaler().fit_transform(df['Amount'].values.reshape (-1,1))\n",
    "df = df.drop(['Time', 'Amount'], axis = 1)\n",
    "\n",
    "df.head()\n"
   ],
   "metadata": {
    "collapsed": false
   }
  },
  {
   "cell_type": "code",
   "execution_count": 6,
   "outputs": [
    {
     "data": {
      "text/plain": "Index(['Unnamed: 0', 'V1', 'V2', 'V3', 'V4', 'V5', 'V6', 'V7', 'V8', 'V9',\n       'V10', 'V11', 'V12', 'V13', 'V14', 'V15', 'V16', 'V17', 'V18', 'V19',\n       'V20', 'V21', 'V22', 'V23', 'V24', 'V25', 'V26', 'V27', 'V28', 'Class',\n       'inversed_dist', 'fraud_neighbor_count', 'community_risk',\n       'personalized_page_rank', 'normAmount'],\n      dtype='object')"
     },
     "execution_count": 6,
     "metadata": {},
     "output_type": "execute_result"
    }
   ],
   "source": [
    "df.columns"
   ],
   "metadata": {
    "collapsed": false
   }
  },
  {
   "cell_type": "markdown",
   "source": [
    "Distribution of Target class"
   ],
   "metadata": {
    "collapsed": false
   }
  },
  {
   "cell_type": "code",
   "execution_count": 7,
   "outputs": [
    {
     "data": {
      "text/plain": "0    284315\n1       492\nName: Class, dtype: int64"
     },
     "execution_count": 7,
     "metadata": {},
     "output_type": "execute_result"
    }
   ],
   "source": [
    "df[\"Class\"].value_counts()"
   ],
   "metadata": {
    "collapsed": false
   }
  },
  {
   "cell_type": "markdown",
   "source": [
    "Preparing data for Training"
   ],
   "metadata": {
    "collapsed": false
   }
  },
  {
   "cell_type": "code",
   "execution_count": 8,
   "outputs": [],
   "source": [
    "X = df[df.columns.difference([\"Class\",\"Time\"])]\n",
    "y = df[\"Class\"]\n",
    "X_train, X_test, y_train, y_test = train_test_split(X, y, test_size=0.1,random_state=1234)"
   ],
   "metadata": {
    "collapsed": false
   }
  },
  {
   "cell_type": "markdown",
   "source": [
    "Feature Scaling"
   ],
   "metadata": {
    "collapsed": false
   }
  },
  {
   "cell_type": "code",
   "execution_count": 9,
   "outputs": [],
   "source": [
    "# sc = StandardScaler()\n",
    "# X_train = sc.fit_transform(X_train)\n",
    "# X_test = sc.transform(X_test)"
   ],
   "metadata": {
    "collapsed": false
   }
  },
  {
   "cell_type": "code",
   "execution_count": 10,
   "outputs": [],
   "source": [
    "def fit_and_predict(model, X_train, y_train, X_test, y_test,desc=\"\"):\n",
    "    model = model.fit(X_train, y_train)\n",
    "    prediction = model.predict(X_test)\n",
    "    conf_matrix = confusion_matrix(y_test,prediction)\n",
    "    fig, ax = plt.subplots(figsize=(2, 2))\n",
    "    ax.matshow(conf_matrix, cmap=plt.cm.Oranges, alpha=0.3)\n",
    "    for i in range(conf_matrix.shape[0]):\n",
    "        for j in range(conf_matrix.shape[1]):\n",
    "            ax.text(x=j, y=i,s=conf_matrix[i, j], va='center', ha='center', size=10)\n",
    "\n",
    "    plt.xlabel('Predictions', fontsize=10)\n",
    "    plt.ylabel('Actuals', fontsize=10)\n",
    "    plt.title('Confusion Matrix', fontsize=10)\n",
    "    plt.show()\n",
    "\n",
    "    print(f'Accuracy: {accuracy_score(y_test, prediction):.3f}'  )\n",
    "    print(f'Precision: {precision_score(y_test, prediction):.3f}'  )\n",
    "    print(f'Recall: {recall_score(y_test,prediction):.3f}')\n",
    "    print(f'F1: {f1_score(y_test,prediction):.3f}')"
   ],
   "metadata": {
    "collapsed": false
   }
  },
  {
   "cell_type": "markdown",
   "source": [
    "Training the Algorithm"
   ],
   "metadata": {
    "collapsed": false
   }
  },
  {
   "cell_type": "code",
   "execution_count": 11,
   "outputs": [],
   "source": [
    "NUM_ESTIMATOR = 150"
   ],
   "metadata": {
    "collapsed": false
   }
  },
  {
   "cell_type": "code",
   "execution_count": 12,
   "outputs": [
    {
     "data": {
      "text/plain": "<Figure size 200x200 with 1 Axes>",
      "image/png": "[encoded data removed]"
     },
     "metadata": {},
     "output_type": "display_data"
    },
    {
     "name": "stdout",
     "output_type": "stream",
     "text": [
      "Accuracy: 0.999\n",
      "Precision: 0.881\n",
      "Recall: 0.787\n",
      "F1: 0.831\n",
      "CPU times: user 3min 31s, sys: 332 ms, total: 3min 32s\n",
      "Wall time: 3min 32s\n"
     ]
    }
   ],
   "source": [
    "%%time\n",
    "rf_clf = RandomForestClassifier(n_estimators=NUM_ESTIMATOR)\n",
    "fit_and_predict(rf_clf, X_train, y_train, X_test, y_test,desc=\"\")"
   ],
   "metadata": {
    "collapsed": false
   }
  },
  {
   "cell_type": "markdown",
   "source": [
    "# Handling imbalance Data"
   ],
   "metadata": {
    "collapsed": false
   }
  },
  {
   "cell_type": "code",
   "execution_count": 13,
   "outputs": [
    {
     "name": "stdout",
     "output_type": "stream",
     "text": [
      "The number of records in the training dataset is (256326, 34)\n",
      "The number of records in the test dataset is (28481, 34)\n",
      "The training dataset has 255881 records for the majority class and 445 records for the minority class.\n"
     ]
    }
   ],
   "source": [
    "print(f\"The number of records in the training dataset is {X_train.shape}\")\n",
    "print(f\"The number of records in the test dataset is {X_test.shape}\")\n",
    "print(f\"The training dataset has {sorted(Counter(y_train).items())[0][1]} records for the majority class and {sorted(Counter(y_train).items())[1][1]} records for the minority class.\")"
   ],
   "metadata": {
    "collapsed": false
   }
  },
  {
   "cell_type": "markdown",
   "source": [
    " ### Random Oversampling for Imbalanced Dataset"
   ],
   "metadata": {
    "collapsed": false
   }
  },
  {
   "cell_type": "code",
   "execution_count": 14,
   "outputs": [
    {
     "name": "stdout",
     "output_type": "stream",
     "text": [
      "[(0, 255881), (1, 255881)]\n",
      "After random oversampling, the minority category increased\n"
     ]
    }
   ],
   "source": [
    "ros = RandomOverSampler(random_state=1234)\n",
    "X_train_ros, y_train_ros = ros.fit_resample(X_train,y_train)\n",
    "# Check the number of records after over sampling\n",
    "print(sorted(Counter(y_train_ros).items()))\n",
    "print(\"After random oversampling, the minority category increased\")"
   ],
   "metadata": {
    "collapsed": false
   }
  },
  {
   "cell_type": "markdown",
   "source": [
    "Training"
   ],
   "metadata": {
    "collapsed": false
   }
  },
  {
   "cell_type": "code",
   "execution_count": 15,
   "outputs": [
    {
     "data": {
      "text/plain": "<Figure size 200x200 with 1 Axes>",
      "image/png": "[encoded data removed]"
     },
     "metadata": {},
     "output_type": "display_data"
    },
    {
     "name": "stdout",
     "output_type": "stream",
     "text": [
      "Accuracy: 0.999\n",
      "Precision: 0.841\n",
      "Recall: 0.787\n",
      "F1: 0.813\n",
      "CPU times: user 2min 49s, sys: 2.75 s, total: 2min 52s\n",
      "Wall time: 2min 52s\n"
     ]
    }
   ],
   "source": [
    "%%time\n",
    "rf_clf = RandomForestClassifier(n_estimators=NUM_ESTIMATOR)\n",
    "fit_and_predict(rf_clf, X_train_ros, y_train_ros, X_test, y_test,desc=\"\")\n"
   ],
   "metadata": {
    "collapsed": false
   }
  },
  {
   "cell_type": "markdown",
   "source": [
    "### SMOTE Oversampling for Imbalanced Dataset"
   ],
   "metadata": {
    "collapsed": false
   }
  },
  {
   "cell_type": "code",
   "execution_count": 16,
   "outputs": [
    {
     "name": "stdout",
     "output_type": "stream",
     "text": [
      "[(0, 255881), (1, 255881)]\n",
      "Similar to random oversampling, the minority category increased\n"
     ]
    }
   ],
   "source": [
    "# Randomly over sample the minority class\n",
    "smote = SMOTE(random_state=1234)\n",
    "X_train_smote, y_train_smote = smote.fit_resample(X_train,y_train)\n",
    "\n",
    "# Check the number of records after over sampling\n",
    "print(sorted(Counter(y_train_smote).items()))\n",
    "print(\"Similar to random oversampling, the minority category increased\")"
   ],
   "metadata": {
    "collapsed": false
   }
  },
  {
   "cell_type": "code",
   "execution_count": 17,
   "outputs": [
    {
     "data": {
      "text/plain": "<Figure size 200x200 with 1 Axes>",
      "image/png": "[encoded data removed]"
     },
     "metadata": {},
     "output_type": "display_data"
    },
    {
     "name": "stdout",
     "output_type": "stream",
     "text": [
      "Accuracy: 0.999\n",
      "Precision: 0.826\n",
      "Recall: 0.809\n",
      "F1: 0.817\n",
      "CPU times: user 6min 5s, sys: 829 ms, total: 6min 6s\n",
      "Wall time: 6min 6s\n"
     ]
    }
   ],
   "source": [
    "%%time\n",
    "rf_clf = RandomForestClassifier(n_estimators=NUM_ESTIMATOR)\n",
    "fit_and_predict(rf_clf, X_train_smote, y_train_smote, X_test, y_test,desc=\"\")"
   ],
   "metadata": {
    "collapsed": false
   }
  },
  {
   "cell_type": "markdown",
   "source": [
    "### Random Under-Sampling for Imbalanced Dataset"
   ],
   "metadata": {
    "collapsed": false
   }
  },
  {
   "cell_type": "code",
   "execution_count": 18,
   "outputs": [
    {
     "name": "stdout",
     "output_type": "stream",
     "text": [
      "[(0, 445), (1, 445)]\n",
      "After random under-sampling, the majority category decreased\n"
     ]
    }
   ],
   "source": [
    "# Randomly under sample the majority class\n",
    "rus = RandomUnderSampler(random_state=12345)\n",
    "X_train_rus, y_train_rus = rus.fit_resample(X_train,y_train)\n",
    "\n",
    "# Check the number of records after under sampling\n",
    "print(sorted(Counter(y_train_rus).items()))\n",
    "print(\"After random under-sampling, the majority category decreased\")"
   ],
   "metadata": {
    "collapsed": false
   }
  },
  {
   "cell_type": "code",
   "execution_count": 19,
   "outputs": [
    {
     "data": {
      "text/plain": "<Figure size 200x200 with 1 Axes>",
      "image/png": "[encoded data removed]"
     },
     "metadata": {},
     "output_type": "display_data"
    },
    {
     "name": "stdout",
     "output_type": "stream",
     "text": [
      "Accuracy: 0.977\n",
      "Precision: 0.061\n",
      "Recall: 0.894\n",
      "F1: 0.114\n",
      "CPU times: user 649 ms, sys: 112 ms, total: 761 ms\n",
      "Wall time: 628 ms\n"
     ]
    }
   ],
   "source": [
    "%%time\n",
    "rf_clf = RandomForestClassifier(n_estimators=NUM_ESTIMATOR)\n",
    "fit_and_predict(rf_clf, X_train_rus, y_train_rus, X_test, y_test,desc=\"\")"
   ],
   "metadata": {
    "collapsed": false
   }
  },
  {
   "cell_type": "markdown",
   "source": [
    "### Under-sampling Using NearMiss for Imbalanced Dataset"
   ],
   "metadata": {
    "collapsed": false
   }
  },
  {
   "cell_type": "code",
   "execution_count": 20,
   "outputs": [
    {
     "name": "stdout",
     "output_type": "stream",
     "text": [
      "[(0, 445), (1, 445)]\n",
      "After NearMiss Under-sampling, the majority category decreased\n"
     ]
    }
   ],
   "source": [
    "# Under sample the majority class\n",
    "nearmiss = NearMiss(version=3)\n",
    "X_train_nearmiss, y_train_nearmiss = nearmiss.fit_resample(X_train,y_train)\n",
    "\n",
    "# Check the number of records after over sampling\n",
    "print(sorted(Counter(y_train_nearmiss).items()))\n",
    "print(\"After NearMiss Under-sampling, the majority category decreased\")"
   ],
   "metadata": {
    "collapsed": false
   }
  },
  {
   "cell_type": "code",
   "execution_count": 21,
   "outputs": [
    {
     "data": {
      "text/plain": "<Figure size 200x200 with 1 Axes>",
      "image/png": "[encoded data removed]"
     },
     "metadata": {},
     "output_type": "display_data"
    },
    {
     "name": "stdout",
     "output_type": "stream",
     "text": [
      "Accuracy: 0.953\n",
      "Precision: 0.030\n",
      "Recall: 0.894\n",
      "F1: 0.058\n",
      "CPU times: user 649 ms, sys: 148 ms, total: 797 ms\n",
      "Wall time: 611 ms\n"
     ]
    }
   ],
   "source": [
    "%%time\n",
    "rf_clf = RandomForestClassifier(n_estimators=NUM_ESTIMATOR)\n",
    "fit_and_predict(rf_clf, X_train_nearmiss, y_train_nearmiss, X_test, y_test,desc=\"\")"
   ],
   "metadata": {
    "collapsed": false
   }
  },
  {
   "cell_type": "code",
   "execution_count": 4,
   "outputs": [],
   "source": [],
   "metadata": {
    "collapsed": false
   }
  },
  {
   "cell_type": "code",
   "execution_count": 57,
   "outputs": [],
   "source": [],
   "metadata": {
    "collapsed": false
   }
  },
  {
   "cell_type": "code",
   "execution_count": 20,
   "outputs": [],
   "source": [],
   "metadata": {
    "collapsed": false
   }
  }
 ],
 "metadata": {
  "kernelspec": {
   "display_name": "Python 3",
   "language": "python",
   "name": "python3"
  },
  "language_info": {
   "codemirror_mode": {
    "name": "ipython",
    "version": 2
   },
   "file_extension": ".py",
   "mimetype": "text/x-python",
   "name": "python",
   "nbconvert_exporter": "python",
   "pygments_lexer": "ipython2",
   "version": "2.7.6"
  }
 },
 "nbformat": 4,
 "nbformat_minor": 0
}
