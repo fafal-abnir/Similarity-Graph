{
 "cells": [
  {
   "cell_type": "code",
   "execution_count": 83,
   "outputs": [],
   "source": [
    "import numpy as np\n",
    "import pandas as pd\n",
    "from sklearn.model_selection import train_test_split\n",
    "from sklearn.preprocessing import StandardScaler\n",
    "from sklearn.ensemble import RandomForestClassifier\n",
    "from sklearn.metrics import precision_score, recall_score, f1_score, accuracy_score\n",
    "from sklearn.metrics import confusion_matrix\n",
    "import matplotlib.pyplot as plt\n",
    "from collections import Counter\n",
    "from imblearn.over_sampling import RandomOverSampler, SMOTE\n",
    "import dataframe_image as dfi"
   ],
   "metadata": {
    "collapsed": false
   }
  },
  {
   "cell_type": "markdown",
   "source": [
    "https://www.analyticsvidhya.com/blog/2017/03/imbalanced-data-classification/\n",
    "https://stackoverflow.com/questions/55921286/should-i-balance-the-test-set-when-i-have-highly-unbalanced-data\n"
   ],
   "metadata": {
    "collapsed": false
   }
  },
  {
   "cell_type": "code",
   "execution_count": 92,
   "outputs": [
    {
     "data": {
      "text/plain": "   Time        V1        V2        V3        V4        V5        V6        V7  \\\n0   0.0 -1.359807 -0.072781  2.536347  1.378155 -0.338321  0.462388  0.239599   \n1   0.0  1.191857  0.266151  0.166480  0.448154  0.060018 -0.082361 -0.078803   \n2   1.0 -1.358354 -1.340163  1.773209  0.379780 -0.503198  1.800499  0.791461   \n3   1.0 -0.966272 -0.185226  1.792993 -0.863291 -0.010309  1.247203  0.237609   \n4   2.0 -1.158233  0.877737  1.548718  0.403034 -0.407193  0.095921  0.592941   \n\n         V8        V9  ...       V21       V22       V23       V24       V25  \\\n0  0.098698  0.363787  ... -0.018307  0.277838 -0.110474  0.066928  0.128539   \n1  0.085102 -0.255425  ... -0.225775 -0.638672  0.101288 -0.339846  0.167170   \n2  0.247676 -1.514654  ...  0.247998  0.771679  0.909412 -0.689281 -0.327642   \n3  0.377436 -1.387024  ... -0.108300  0.005274 -0.190321 -1.175575  0.647376   \n4 -0.270533  0.817739  ... -0.009431  0.798278 -0.137458  0.141267 -0.206010   \n\n        V26       V27       V28  Class  normAmount  \n0 -0.189115  0.133558 -0.021053      0    0.244964  \n1  0.125895 -0.008983  0.014724      0   -0.342475  \n2 -0.139097 -0.055353 -0.059752      0    1.160686  \n3 -0.221929  0.062723  0.061458      0    0.140534  \n4  0.502292  0.219422  0.215153      0   -0.073403  \n\n[5 rows x 31 columns]",
      "text/html": "<div>\n<style scoped>\n    .dataframe tbody tr th:only-of-type {\n        vertical-align: middle;\n    }\n\n    .dataframe tbody tr th {\n        vertical-align: top;\n    }\n\n    .dataframe thead th {\n        text-align: right;\n    }\n</style>\n<table border=\"1\" class=\"dataframe\">\n  <thead>\n    <tr style=\"text-align: right;\">\n      <th></th>\n      <th>Time</th>\n      <th>V1</th>\n      <th>V2</th>\n      <th>V3</th>\n      <th>V4</th>\n      <th>V5</th>\n      <th>V6</th>\n      <th>V7</th>\n      <th>V8</th>\n      <th>V9</th>\n      <th>...</th>\n      <th>V21</th>\n      <th>V22</th>\n      <th>V23</th>\n      <th>V24</th>\n      <th>V25</th>\n      <th>V26</th>\n      <th>V27</th>\n      <th>V28</th>\n      <th>Class</th>\n      <th>normAmount</th>\n    </tr>\n  </thead>\n  <tbody>\n    <tr>\n      <th>0</th>\n      <td>0.0</td>\n      <td>-1.359807</td>\n      <td>-0.072781</td>\n      <td>2.536347</td>\n      <td>1.378155</td>\n      <td>-0.338321</td>\n      <td>0.462388</td>\n      <td>0.239599</td>\n      <td>0.098698</td>\n      <td>0.363787</td>\n      <td>...</td>\n      <td>-0.018307</td>\n      <td>0.277838</td>\n      <td>-0.110474</td>\n      <td>0.066928</td>\n      <td>0.128539</td>\n      <td>-0.189115</td>\n      <td>0.133558</td>\n      <td>-0.021053</td>\n      <td>0</td>\n      <td>0.244964</td>\n    </tr>\n    <tr>\n      <th>1</th>\n      <td>0.0</td>\n      <td>1.191857</td>\n      <td>0.266151</td>\n      <td>0.166480</td>\n      <td>0.448154</td>\n      <td>0.060018</td>\n      <td>-0.082361</td>\n      <td>-0.078803</td>\n      <td>0.085102</td>\n      <td>-0.255425</td>\n      <td>...</td>\n      <td>-0.225775</td>\n      <td>-0.638672</td>\n      <td>0.101288</td>\n      <td>-0.339846</td>\n      <td>0.167170</td>\n      <td>0.125895</td>\n      <td>-0.008983</td>\n      <td>0.014724</td>\n      <td>0</td>\n      <td>-0.342475</td>\n    </tr>\n    <tr>\n      <th>2</th>\n      <td>1.0</td>\n      <td>-1.358354</td>\n      <td>-1.340163</td>\n      <td>1.773209</td>\n      <td>0.379780</td>\n      <td>-0.503198</td>\n      <td>1.800499</td>\n      <td>0.791461</td>\n      <td>0.247676</td>\n      <td>-1.514654</td>\n      <td>...</td>\n      <td>0.247998</td>\n      <td>0.771679</td>\n      <td>0.909412</td>\n      <td>-0.689281</td>\n      <td>-0.327642</td>\n      <td>-0.139097</td>\n      <td>-0.055353</td>\n      <td>-0.059752</td>\n      <td>0</td>\n      <td>1.160686</td>\n    </tr>\n    <tr>\n      <th>3</th>\n      <td>1.0</td>\n      <td>-0.966272</td>\n      <td>-0.185226</td>\n      <td>1.792993</td>\n      <td>-0.863291</td>\n      <td>-0.010309</td>\n      <td>1.247203</td>\n      <td>0.237609</td>\n      <td>0.377436</td>\n      <td>-1.387024</td>\n      <td>...</td>\n      <td>-0.108300</td>\n      <td>0.005274</td>\n      <td>-0.190321</td>\n      <td>-1.175575</td>\n      <td>0.647376</td>\n      <td>-0.221929</td>\n      <td>0.062723</td>\n      <td>0.061458</td>\n      <td>0</td>\n      <td>0.140534</td>\n    </tr>\n    <tr>\n      <th>4</th>\n      <td>2.0</td>\n      <td>-1.158233</td>\n      <td>0.877737</td>\n      <td>1.548718</td>\n      <td>0.403034</td>\n      <td>-0.407193</td>\n      <td>0.095921</td>\n      <td>0.592941</td>\n      <td>-0.270533</td>\n      <td>0.817739</td>\n      <td>...</td>\n      <td>-0.009431</td>\n      <td>0.798278</td>\n      <td>-0.137458</td>\n      <td>0.141267</td>\n      <td>-0.206010</td>\n      <td>0.502292</td>\n      <td>0.219422</td>\n      <td>0.215153</td>\n      <td>0</td>\n      <td>-0.073403</td>\n    </tr>\n  </tbody>\n</table>\n<p>5 rows × 31 columns</p>\n</div>"
     },
     "execution_count": 92,
     "metadata": {},
     "output_type": "execute_result"
    }
   ],
   "source": [
    "df = pd.read_csv(\"../data/raw/creditcard.csv\")\n",
    "df['normAmount'] = StandardScaler().fit_transform(df['Amount'].values.reshape (-1,1))\n",
    "df = df.drop(['Amount'], axis = 1)\n",
    "\n",
    "df.head()\n"
   ],
   "metadata": {
    "collapsed": false
   }
  },
  {
   "cell_type": "code",
   "execution_count": 93,
   "outputs": [],
   "source": [
    "result_dir = \"../results\"\n",
    "results_name = \"all_previous_in_training\""
   ],
   "metadata": {
    "collapsed": false
   }
  },
  {
   "cell_type": "code",
   "execution_count": 94,
   "outputs": [],
   "source": [
    "GROUP_TIME_LENGTH = 7200\n",
    "max_time = df[\"Time\"].max()\n",
    "group_df = df.groupby(pd.cut(df[\"Time\"], np.arange(-1, max_time + GROUP_TIME_LENGTH, GROUP_TIME_LENGTH)))\n"
   ],
   "metadata": {
    "collapsed": false
   }
  },
  {
   "cell_type": "markdown",
   "source": [
    "Distribution of Target class"
   ],
   "metadata": {
    "collapsed": false
   }
  },
  {
   "cell_type": "code",
   "execution_count": 95,
   "outputs": [
    {
     "data": {
      "text/plain": "0    284315\n1       492\nName: Class, dtype: int64"
     },
     "execution_count": 95,
     "metadata": {},
     "output_type": "execute_result"
    }
   ],
   "source": [
    "df[\"Class\"].value_counts()"
   ],
   "metadata": {
    "collapsed": false
   }
  },
  {
   "cell_type": "markdown",
   "source": [
    "Defining classifier"
   ],
   "metadata": {
    "collapsed": false
   }
  },
  {
   "cell_type": "code",
   "execution_count": 96,
   "outputs": [],
   "source": [
    "def predict_with_metric(model,X_test, y_test):\n",
    "    prediction = model.predict(X_test)\n",
    "    conf_matrix = confusion_matrix(y_test,prediction)\n",
    "    tn= conf_matrix[0][0]\n",
    "    fp= conf_matrix[0][1]\n",
    "    fn = conf_matrix[1][0]\n",
    "    tp =conf_matrix[1][1]\n",
    "    return {\"Prediction\":list(prediction.flatten()),\"Accuracy\":accuracy_score(y_test, prediction),\"Precision\":precision_score(y_test, prediction),\"Recall\":recall_score(y_test,prediction),\"F1\":f1_score(y_test,prediction),\"TN\":tn,\"FP\":fp,\"FN\":fn,\"TP\":tp}"
   ],
   "metadata": {
    "collapsed": false
   }
  },
  {
   "cell_type": "code",
   "execution_count": 97,
   "outputs": [
    {
     "name": "stdout",
     "output_type": "stream",
     "text": [
      "CPU times: user 35 µs, sys: 1e+03 ns, total: 36 µs\n",
      "Wall time: 40.1 µs\n"
     ]
    }
   ],
   "source": [
    "%%time\n",
    "NUM_ESTIMATOR = 50\n",
    "rf_clf = RandomForestClassifier(n_estimators=NUM_ESTIMATOR)"
   ],
   "metadata": {
    "collapsed": false
   }
  },
  {
   "cell_type": "code",
   "execution_count": 98,
   "outputs": [
    {
     "name": "stdout",
     "output_type": "stream",
     "text": [
      "===== Processing group:(-1.0, 7199.0] , group number:1=====\n",
      "===== Processing group:(7199.0, 14399.0] , group number:2=====\n",
      "===== Processing group:(14399.0, 21599.0] , group number:3=====\n",
      "===== Processing group:(21599.0, 28799.0] , group number:4=====\n",
      "Predicting group 4\n",
      "===== Processing group:(28799.0, 35999.0] , group number:5=====\n",
      "Predicting group 5\n",
      "===== Processing group:(35999.0, 43199.0] , group number:6=====\n",
      "Predicting group 6\n",
      "===== Processing group:(43199.0, 50399.0] , group number:7=====\n",
      "Predicting group 7\n",
      "===== Processing group:(50399.0, 57599.0] , group number:8=====\n",
      "Predicting group 8\n",
      "===== Processing group:(57599.0, 64799.0] , group number:9=====\n",
      "Predicting group 9\n",
      "===== Processing group:(64799.0, 71999.0] , group number:10=====\n",
      "Predicting group 10\n",
      "===== Processing group:(71999.0, 79199.0] , group number:11=====\n",
      "Predicting group 11\n",
      "===== Processing group:(79199.0, 86399.0] , group number:12=====\n",
      "Predicting group 12\n",
      "===== Processing group:(86399.0, 93599.0] , group number:13=====\n",
      "Predicting group 13\n",
      "===== Processing group:(93599.0, 100799.0] , group number:14=====\n",
      "Predicting group 14\n",
      "===== Processing group:(100799.0, 107999.0] , group number:15=====\n",
      "Predicting group 15\n",
      "===== Processing group:(107999.0, 115199.0] , group number:16=====\n",
      "Predicting group 16\n",
      "===== Processing group:(115199.0, 122399.0] , group number:17=====\n",
      "Predicting group 17\n",
      "===== Processing group:(122399.0, 129599.0] , group number:18=====\n",
      "Predicting group 18\n",
      "===== Processing group:(129599.0, 136799.0] , group number:19=====\n",
      "Predicting group 19\n",
      "===== Processing group:(136799.0, 143999.0] , group number:20=====\n",
      "Predicting group 20\n",
      "===== Processing group:(143999.0, 151199.0] , group number:21=====\n",
      "Predicting group 21\n",
      "===== Processing group:(151199.0, 158399.0] , group number:22=====\n",
      "Predicting group 22\n",
      "===== Processing group:(158399.0, 165599.0] , group number:23=====\n",
      "Predicting group 23\n",
      "===== Processing group:(165599.0, 172799.0] , group number:24=====\n",
      "Predicting group 24\n"
     ]
    }
   ],
   "source": [
    "normal_acc_l = []\n",
    "normal_pre_l = []\n",
    "normal_rec_l = []\n",
    "normal_f1_l = []\n",
    "normal_tn_l= []\n",
    "normal_fp_l= []\n",
    "normal_fn_l = []\n",
    "normal_tp_l = []\n",
    "group_time_l = []\n",
    "train_data = pd.DataFrame()\n",
    "for group_time, group in group_df:\n",
    "    # print(\"\")\n",
    "    print(f\"===== Processing group:{group_time} , group number:{int((group_time.left + 1) / GROUP_TIME_LENGTH + 1)}=====\")\n",
    "    group_number = int((group_time.left + 1) / GROUP_TIME_LENGTH + 1)\n",
    "    if group_number > 3:\n",
    "        print(f\"Predicting group {group_number}\")\n",
    "        X_test = group[group.columns.difference([\"Class\",\"Time\"])]\n",
    "        y_train = group[\"Class\"]\n",
    "        model_prediction  = predict_with_metric(rf_clf,X_test,y_train)\n",
    "        group_time_l.append(group_time)\n",
    "        normal_acc_l.append(model_prediction[\"Accuracy\"])\n",
    "        normal_pre_l.append(model_prediction[\"Precision\"])\n",
    "        normal_rec_l.append(model_prediction[\"Recall\"])\n",
    "        normal_f1_l.append(model_prediction[\"F1\"])\n",
    "        normal_tn_l.append(model_prediction[\"TN\"])\n",
    "        normal_fp_l.append(model_prediction[\"FP\"])\n",
    "        normal_fn_l.append(model_prediction[\"FN\"])\n",
    "        normal_tp_l.append(model_prediction[\"TP\"])\n",
    "    train_data = pd.concat([train_data,group])\n",
    "    X_train = train_data[train_data.columns.difference([\"Class\",\"Time\"])]\n",
    "    y_train = train_data[\"Class\"]\n",
    "    rf_clf.fit(X_train,y_train)"
   ],
   "metadata": {
    "collapsed": false
   }
  },
  {
   "cell_type": "code",
   "execution_count": 99,
   "outputs": [
    {
     "name": "stderr",
     "output_type": "stream",
     "text": [
      "/tmp/ipykernel_4066994/2681348517.py:4: FutureWarning: this method is deprecated in favour of `Styler.hide(axis=\"index\")`\n",
      "  dfi.export(df.style.hide_index(), f\"{result_dir}/dynamic_clf_normal_{results_name}.png\")\n",
      "[1113/141556.985457:WARNING:sandbox_linux.cc(380)] InitializeSandbox() called with multiple threads in process gpu-process.\n",
      "[1113/141556.989129:WARNING:bluez_dbus_manager.cc(247)] Floss manager not present, cannot set Floss enable/disable.\n",
      "[1113/141557.178384:INFO:headless_shell.cc(660)] Written to file /tmp/tmptrd6_jn1/temp.png.\n"
     ]
    },
    {
     "data": {
      "text/plain": "                  period  Accuracy  Precision    Recall       F-1     TN  FP  \\\n0     (21599.0, 28799.0]  0.997307   0.687500  0.846154  0.758621   5163  10   \n1     (28799.0, 35999.0]  0.999234   0.916667  0.550000  0.687500  13036   1   \n2     (35999.0, 43199.0]  0.999464   0.928571  0.866667  0.896552  16757   3   \n3     (43199.0, 50399.0]  0.999217   0.875000  0.388889  0.538462  15298   1   \n4     (50399.0, 57599.0]  0.999685   1.000000  0.814815  0.897959  15838   0   \n5     (57599.0, 64799.0]  0.999553   1.000000  0.730769  0.844444  15642   0   \n6     (64799.0, 71999.0]  0.999578   1.000000  0.681818  0.810811  16579   0   \n7     (71999.0, 79199.0]  0.999311   0.764706  0.590909  0.666667  18849   4   \n8     (79199.0, 86399.0]  0.999801   1.000000  0.850000  0.918919  15039   0   \n9     (86399.0, 93599.0]  0.997733   0.454545  0.416667  0.434783   5717   6   \n10   (93599.0, 100799.0]  0.998539   0.926829  0.950000  0.938272   3380   3   \n11  (100799.0, 107999.0]  0.998768   0.888889  0.941176  0.914286   2417   2   \n12  (107999.0, 115199.0]  0.998861   0.444444  0.666667  0.533333   6134   5   \n13  (115199.0, 122399.0]  0.999847   0.714286  1.000000  0.833333  13050   2   \n14  (122399.0, 129599.0]  0.999519   0.833333  0.625000  0.714286  16631   2   \n15  (129599.0, 136799.0]  0.999547   1.000000  0.562500  0.720000  15452   0   \n16  (136799.0, 143999.0]  0.999592   1.000000  0.681818  0.810811  17144   0   \n17  (143999.0, 151199.0]  0.999528   1.000000  0.680000  0.809524  16926   0   \n18  (151199.0, 158399.0]  0.999441   1.000000  0.700000  0.823529  16057   0   \n19  (158399.0, 165599.0]  0.999872   1.000000  0.833333  0.909091  15572   0   \n20  (165599.0, 172799.0]  0.999293   0.625000  0.500000  0.555556  11307   3   \n\n    FN  TP  \n0    4  22  \n1    9  11  \n2    6  39  \n3   11   7  \n4    5  22  \n5    7  19  \n6    7  15  \n7    9  13  \n8    3  17  \n9    7   5  \n10   2  38  \n11   1  16  \n12   2   4  \n13   0   5  \n14   6  10  \n15   7   9  \n16   7  15  \n17   8  17  \n18   9  21  \n19   2  10  \n20   5   5  ",
      "text/html": "<div>\n<style scoped>\n    .dataframe tbody tr th:only-of-type {\n        vertical-align: middle;\n    }\n\n    .dataframe tbody tr th {\n        vertical-align: top;\n    }\n\n    .dataframe thead th {\n        text-align: right;\n    }\n</style>\n<table border=\"1\" class=\"dataframe\">\n  <thead>\n    <tr style=\"text-align: right;\">\n      <th></th>\n      <th>period</th>\n      <th>Accuracy</th>\n      <th>Precision</th>\n      <th>Recall</th>\n      <th>F-1</th>\n      <th>TN</th>\n      <th>FP</th>\n      <th>FN</th>\n      <th>TP</th>\n    </tr>\n  </thead>\n  <tbody>\n    <tr>\n      <th>0</th>\n      <td>(21599.0, 28799.0]</td>\n      <td>0.997307</td>\n      <td>0.687500</td>\n      <td>0.846154</td>\n      <td>0.758621</td>\n      <td>5163</td>\n      <td>10</td>\n      <td>4</td>\n      <td>22</td>\n    </tr>\n    <tr>\n      <th>1</th>\n      <td>(28799.0, 35999.0]</td>\n      <td>0.999234</td>\n      <td>0.916667</td>\n      <td>0.550000</td>\n      <td>0.687500</td>\n      <td>13036</td>\n      <td>1</td>\n      <td>9</td>\n      <td>11</td>\n    </tr>\n    <tr>\n      <th>2</th>\n      <td>(35999.0, 43199.0]</td>\n      <td>0.999464</td>\n      <td>0.928571</td>\n      <td>0.866667</td>\n      <td>0.896552</td>\n      <td>16757</td>\n      <td>3</td>\n      <td>6</td>\n      <td>39</td>\n    </tr>\n    <tr>\n      <th>3</th>\n      <td>(43199.0, 50399.0]</td>\n      <td>0.999217</td>\n      <td>0.875000</td>\n      <td>0.388889</td>\n      <td>0.538462</td>\n      <td>15298</td>\n      <td>1</td>\n      <td>11</td>\n      <td>7</td>\n    </tr>\n    <tr>\n      <th>4</th>\n      <td>(50399.0, 57599.0]</td>\n      <td>0.999685</td>\n      <td>1.000000</td>\n      <td>0.814815</td>\n      <td>0.897959</td>\n      <td>15838</td>\n      <td>0</td>\n      <td>5</td>\n      <td>22</td>\n    </tr>\n    <tr>\n      <th>5</th>\n      <td>(57599.0, 64799.0]</td>\n      <td>0.999553</td>\n      <td>1.000000</td>\n      <td>0.730769</td>\n      <td>0.844444</td>\n      <td>15642</td>\n      <td>0</td>\n      <td>7</td>\n      <td>19</td>\n    </tr>\n    <tr>\n      <th>6</th>\n      <td>(64799.0, 71999.0]</td>\n      <td>0.999578</td>\n      <td>1.000000</td>\n      <td>0.681818</td>\n      <td>0.810811</td>\n      <td>16579</td>\n      <td>0</td>\n      <td>7</td>\n      <td>15</td>\n    </tr>\n    <tr>\n      <th>7</th>\n      <td>(71999.0, 79199.0]</td>\n      <td>0.999311</td>\n      <td>0.764706</td>\n      <td>0.590909</td>\n      <td>0.666667</td>\n      <td>18849</td>\n      <td>4</td>\n      <td>9</td>\n      <td>13</td>\n    </tr>\n    <tr>\n      <th>8</th>\n      <td>(79199.0, 86399.0]</td>\n      <td>0.999801</td>\n      <td>1.000000</td>\n      <td>0.850000</td>\n      <td>0.918919</td>\n      <td>15039</td>\n      <td>0</td>\n      <td>3</td>\n      <td>17</td>\n    </tr>\n    <tr>\n      <th>9</th>\n      <td>(86399.0, 93599.0]</td>\n      <td>0.997733</td>\n      <td>0.454545</td>\n      <td>0.416667</td>\n      <td>0.434783</td>\n      <td>5717</td>\n      <td>6</td>\n      <td>7</td>\n      <td>5</td>\n    </tr>\n    <tr>\n      <th>10</th>\n      <td>(93599.0, 100799.0]</td>\n      <td>0.998539</td>\n      <td>0.926829</td>\n      <td>0.950000</td>\n      <td>0.938272</td>\n      <td>3380</td>\n      <td>3</td>\n      <td>2</td>\n      <td>38</td>\n    </tr>\n    <tr>\n      <th>11</th>\n      <td>(100799.0, 107999.0]</td>\n      <td>0.998768</td>\n      <td>0.888889</td>\n      <td>0.941176</td>\n      <td>0.914286</td>\n      <td>2417</td>\n      <td>2</td>\n      <td>1</td>\n      <td>16</td>\n    </tr>\n    <tr>\n      <th>12</th>\n      <td>(107999.0, 115199.0]</td>\n      <td>0.998861</td>\n      <td>0.444444</td>\n      <td>0.666667</td>\n      <td>0.533333</td>\n      <td>6134</td>\n      <td>5</td>\n      <td>2</td>\n      <td>4</td>\n    </tr>\n    <tr>\n      <th>13</th>\n      <td>(115199.0, 122399.0]</td>\n      <td>0.999847</td>\n      <td>0.714286</td>\n      <td>1.000000</td>\n      <td>0.833333</td>\n      <td>13050</td>\n      <td>2</td>\n      <td>0</td>\n      <td>5</td>\n    </tr>\n    <tr>\n      <th>14</th>\n      <td>(122399.0, 129599.0]</td>\n      <td>0.999519</td>\n      <td>0.833333</td>\n      <td>0.625000</td>\n      <td>0.714286</td>\n      <td>16631</td>\n      <td>2</td>\n      <td>6</td>\n      <td>10</td>\n    </tr>\n    <tr>\n      <th>15</th>\n      <td>(129599.0, 136799.0]</td>\n      <td>0.999547</td>\n      <td>1.000000</td>\n      <td>0.562500</td>\n      <td>0.720000</td>\n      <td>15452</td>\n      <td>0</td>\n      <td>7</td>\n      <td>9</td>\n    </tr>\n    <tr>\n      <th>16</th>\n      <td>(136799.0, 143999.0]</td>\n      <td>0.999592</td>\n      <td>1.000000</td>\n      <td>0.681818</td>\n      <td>0.810811</td>\n      <td>17144</td>\n      <td>0</td>\n      <td>7</td>\n      <td>15</td>\n    </tr>\n    <tr>\n      <th>17</th>\n      <td>(143999.0, 151199.0]</td>\n      <td>0.999528</td>\n      <td>1.000000</td>\n      <td>0.680000</td>\n      <td>0.809524</td>\n      <td>16926</td>\n      <td>0</td>\n      <td>8</td>\n      <td>17</td>\n    </tr>\n    <tr>\n      <th>18</th>\n      <td>(151199.0, 158399.0]</td>\n      <td>0.999441</td>\n      <td>1.000000</td>\n      <td>0.700000</td>\n      <td>0.823529</td>\n      <td>16057</td>\n      <td>0</td>\n      <td>9</td>\n      <td>21</td>\n    </tr>\n    <tr>\n      <th>19</th>\n      <td>(158399.0, 165599.0]</td>\n      <td>0.999872</td>\n      <td>1.000000</td>\n      <td>0.833333</td>\n      <td>0.909091</td>\n      <td>15572</td>\n      <td>0</td>\n      <td>2</td>\n      <td>10</td>\n    </tr>\n    <tr>\n      <th>20</th>\n      <td>(165599.0, 172799.0]</td>\n      <td>0.999293</td>\n      <td>0.625000</td>\n      <td>0.500000</td>\n      <td>0.555556</td>\n      <td>11307</td>\n      <td>3</td>\n      <td>5</td>\n      <td>5</td>\n    </tr>\n  </tbody>\n</table>\n</div>"
     },
     "execution_count": 99,
     "metadata": {},
     "output_type": "execute_result"
    }
   ],
   "source": [
    "metric_data = list(zip(group_time_l,normal_acc_l,normal_pre_l,normal_rec_l,normal_f1_l,normal_tn_l,normal_fp_l,normal_fn_l,normal_tp_l))\n",
    "df = pd.DataFrame(metric_data, columns =['period','Accuracy', 'Precision', 'Recall','F-1','TN','FP','FN','TP'])\n",
    "df.to_csv(f\"{result_dir}/dynamic_clf_normal_{results_name}.csv\")\n",
    "dfi.export(df.style.hide_index(), f\"{result_dir}/dynamic_clf_normal_{results_name}.png\")\n",
    "df"
   ],
   "metadata": {
    "collapsed": false
   }
  },
  {
   "cell_type": "markdown",
   "source": [
    "## Random Over sampling"
   ],
   "metadata": {
    "collapsed": false
   }
  },
  {
   "cell_type": "code",
   "execution_count": 100,
   "outputs": [
    {
     "name": "stdout",
     "output_type": "stream",
     "text": [
      "CPU times: user 75 µs, sys: 0 ns, total: 75 µs\n",
      "Wall time: 78.2 µs\n"
     ]
    }
   ],
   "source": [
    "%%time\n",
    "NUM_ESTIMATOR = 50\n",
    "rf_clf = RandomForestClassifier(n_estimators=NUM_ESTIMATOR)"
   ],
   "metadata": {
    "collapsed": false
   }
  },
  {
   "cell_type": "code",
   "execution_count": 101,
   "outputs": [
    {
     "name": "stdout",
     "output_type": "stream",
     "text": [
      "===== Processing group:(-1.0, 7199.0] , group number:1=====\n",
      "[(0, 6176), (1, 6176)]\n",
      "===== Processing group:(7199.0, 14399.0] , group number:2=====\n",
      "[(0, 9539), (1, 9539)]\n",
      "===== Processing group:(14399.0, 21599.0] , group number:3=====\n",
      "[(0, 12285), (1, 12285)]\n",
      "===== Processing group:(21599.0, 28799.0] , group number:4=====\n",
      "Predicting group 4\n",
      "[(0, 17458), (1, 17458)]\n",
      "===== Processing group:(28799.0, 35999.0] , group number:5=====\n",
      "Predicting group 5\n",
      "[(0, 30495), (1, 30495)]\n",
      "===== Processing group:(35999.0, 43199.0] , group number:6=====\n",
      "Predicting group 6\n",
      "[(0, 47255), (1, 47255)]\n",
      "===== Processing group:(43199.0, 50399.0] , group number:7=====\n",
      "Predicting group 7\n",
      "[(0, 62554), (1, 62554)]\n",
      "===== Processing group:(50399.0, 57599.0] , group number:8=====\n",
      "Predicting group 8\n",
      "[(0, 78392), (1, 78392)]\n",
      "===== Processing group:(57599.0, 64799.0] , group number:9=====\n",
      "Predicting group 9\n",
      "[(0, 94034), (1, 94034)]\n",
      "===== Processing group:(64799.0, 71999.0] , group number:10=====\n",
      "Predicting group 10\n",
      "[(0, 110613), (1, 110613)]\n",
      "===== Processing group:(71999.0, 79199.0] , group number:11=====\n",
      "Predicting group 11\n",
      "[(0, 129466), (1, 129466)]\n",
      "===== Processing group:(79199.0, 86399.0] , group number:12=====\n",
      "Predicting group 12\n",
      "[(0, 144505), (1, 144505)]\n",
      "===== Processing group:(86399.0, 93599.0] , group number:13=====\n",
      "Predicting group 13\n",
      "[(0, 150228), (1, 150228)]\n",
      "===== Processing group:(93599.0, 100799.0] , group number:14=====\n",
      "Predicting group 14\n",
      "[(0, 153611), (1, 153611)]\n",
      "===== Processing group:(100799.0, 107999.0] , group number:15=====\n",
      "Predicting group 15\n",
      "[(0, 156030), (1, 156030)]\n",
      "===== Processing group:(107999.0, 115199.0] , group number:16=====\n",
      "Predicting group 16\n",
      "[(0, 162169), (1, 162169)]\n",
      "===== Processing group:(115199.0, 122399.0] , group number:17=====\n",
      "Predicting group 17\n",
      "[(0, 175221), (1, 175221)]\n",
      "===== Processing group:(122399.0, 129599.0] , group number:18=====\n",
      "Predicting group 18\n",
      "[(0, 191854), (1, 191854)]\n",
      "===== Processing group:(129599.0, 136799.0] , group number:19=====\n",
      "Predicting group 19\n",
      "[(0, 207306), (1, 207306)]\n",
      "===== Processing group:(136799.0, 143999.0] , group number:20=====\n",
      "Predicting group 20\n",
      "[(0, 224450), (1, 224450)]\n",
      "===== Processing group:(143999.0, 151199.0] , group number:21=====\n",
      "Predicting group 21\n",
      "[(0, 241376), (1, 241376)]\n",
      "===== Processing group:(151199.0, 158399.0] , group number:22=====\n",
      "Predicting group 22\n",
      "[(0, 257433), (1, 257433)]\n",
      "===== Processing group:(158399.0, 165599.0] , group number:23=====\n",
      "Predicting group 23\n",
      "[(0, 273005), (1, 273005)]\n",
      "===== Processing group:(165599.0, 172799.0] , group number:24=====\n",
      "Predicting group 24\n",
      "[(0, 284315), (1, 284315)]\n"
     ]
    }
   ],
   "source": [
    "ros_acc_l = []\n",
    "ros_pre_l = []\n",
    "ros_rec_l = []\n",
    "ros_f1_l = []\n",
    "ros_tn_l= []\n",
    "ros_fp_l= []\n",
    "ros_fn_l = []\n",
    "ros_tp_l = []\n",
    "group_time_l = []\n",
    "train_data = pd.DataFrame()\n",
    "for group_time, group in group_df:\n",
    "    # print(\"\")\n",
    "    print(f\"===== Processing group:{group_time} , group number:{int((group_time.left + 1) / GROUP_TIME_LENGTH + 1)}=====\")\n",
    "    group_number = int((group_time.left + 1) / GROUP_TIME_LENGTH + 1)\n",
    "    if group_number > 3:\n",
    "        print(f\"Predicting group {group_number}\")\n",
    "        X_test = group[group.columns.difference([\"Class\",\"Time\"])]\n",
    "        y_train = group[\"Class\"]\n",
    "        model_prediction  = predict_with_metric(rf_clf,X_test,y_train)\n",
    "        group_time_l.append(group_time)\n",
    "        ros_acc_l.append(model_prediction[\"Accuracy\"])\n",
    "        ros_pre_l.append(model_prediction[\"Precision\"])\n",
    "        ros_rec_l.append(model_prediction[\"Recall\"])\n",
    "        ros_f1_l.append(model_prediction[\"F1\"])\n",
    "        ros_tn_l.append(model_prediction[\"TN\"])\n",
    "        ros_fp_l.append(model_prediction[\"FP\"])\n",
    "        ros_fn_l.append(model_prediction[\"FN\"])\n",
    "        ros_tp_l.append(model_prediction[\"TP\"])\n",
    "    # Random over sampling\n",
    "    train_data = pd.concat([train_data,group])\n",
    "    X_train = train_data[train_data.columns.difference([\"Class\",\"Time\"])]\n",
    "    y_train = train_data[\"Class\"]\n",
    "    ros = RandomOverSampler(random_state=1234)\n",
    "    X_group_ros, y_group_ros = ros.fit_resample(X_train,y_train)\n",
    "    # Check the number of records after over sampling\n",
    "    print(sorted(Counter(y_group_ros).items()))\n",
    "    # Training model\n",
    "    rf_clf.fit(X_train,y_train)\n"
   ],
   "metadata": {
    "collapsed": false
   }
  },
  {
   "cell_type": "code",
   "execution_count": 102,
   "outputs": [
    {
     "name": "stderr",
     "output_type": "stream",
     "text": [
      "/tmp/ipykernel_4066994/2665223059.py:4: FutureWarning: this method is deprecated in favour of `Styler.hide(axis=\"index\")`\n",
      "  dfi.export(df.style.hide_index(), f\"{result_dir}/dynamic_clf_ros_{results_name}.png\")\n",
      "[1113/143423.358169:WARNING:bluez_dbus_manager.cc(247)] Floss manager not present, cannot set Floss enable/disable.\n",
      "[1113/143423.358330:WARNING:sandbox_linux.cc(380)] InitializeSandbox() called with multiple threads in process gpu-process.\n",
      "[1113/143424.310653:INFO:headless_shell.cc(660)] Written to file /tmp/tmp2hvxkbd5/temp.png.\n"
     ]
    },
    {
     "data": {
      "text/plain": "                  period  Accuracy  Precision    Recall       F-1     TN  FP  \\\n0     (21599.0, 28799.0]  0.995961   0.777778  0.269231  0.400000   5171   2   \n1     (28799.0, 35999.0]  0.999234   0.916667  0.550000  0.687500  13036   1   \n2     (35999.0, 43199.0]  0.999464   0.928571  0.866667  0.896552  16757   3   \n3     (43199.0, 50399.0]  0.999217   0.800000  0.444444  0.571429  15297   2   \n4     (50399.0, 57599.0]  0.999685   1.000000  0.814815  0.897959  15838   0   \n5     (57599.0, 64799.0]  0.999553   1.000000  0.730769  0.844444  15642   0   \n6     (64799.0, 71999.0]  0.999578   1.000000  0.681818  0.810811  16579   0   \n7     (71999.0, 79199.0]  0.999470   0.833333  0.681818  0.750000  18850   3   \n8     (79199.0, 86399.0]  0.999801   1.000000  0.850000  0.918919  15039   0   \n9     (86399.0, 93599.0]  0.997559   0.400000  0.333333  0.363636   5717   6   \n10   (93599.0, 100799.0]  0.998247   0.925000  0.925000  0.925000   3380   3   \n11  (100799.0, 107999.0]  0.998768   0.888889  0.941176  0.914286   2417   2   \n12  (107999.0, 115199.0]  0.998698   0.400000  0.666667  0.500000   6133   6   \n13  (115199.0, 122399.0]  0.999770   0.625000  1.000000  0.769231  13049   3   \n14  (122399.0, 129599.0]  0.999580   0.846154  0.687500  0.758621  16631   2   \n15  (129599.0, 136799.0]  0.999612   1.000000  0.625000  0.769231  15452   0   \n16  (136799.0, 143999.0]  0.999592   1.000000  0.681818  0.810811  17144   0   \n17  (143999.0, 151199.0]  0.999646   1.000000  0.760000  0.863636  16926   0   \n18  (151199.0, 158399.0]  0.999441   1.000000  0.700000  0.823529  16057   0   \n19  (158399.0, 165599.0]  0.999872   1.000000  0.833333  0.909091  15572   0   \n20  (165599.0, 172799.0]  0.999205   0.555556  0.500000  0.526316  11306   4   \n\n    FN  TP  \n0   19   7  \n1    9  11  \n2    6  39  \n3   10   8  \n4    5  22  \n5    7  19  \n6    7  15  \n7    7  15  \n8    3  17  \n9    8   4  \n10   3  37  \n11   1  16  \n12   2   4  \n13   0   5  \n14   5  11  \n15   6  10  \n16   7  15  \n17   6  19  \n18   9  21  \n19   2  10  \n20   5   5  ",
      "text/html": "<div>\n<style scoped>\n    .dataframe tbody tr th:only-of-type {\n        vertical-align: middle;\n    }\n\n    .dataframe tbody tr th {\n        vertical-align: top;\n    }\n\n    .dataframe thead th {\n        text-align: right;\n    }\n</style>\n<table border=\"1\" class=\"dataframe\">\n  <thead>\n    <tr style=\"text-align: right;\">\n      <th></th>\n      <th>period</th>\n      <th>Accuracy</th>\n      <th>Precision</th>\n      <th>Recall</th>\n      <th>F-1</th>\n      <th>TN</th>\n      <th>FP</th>\n      <th>FN</th>\n      <th>TP</th>\n    </tr>\n  </thead>\n  <tbody>\n    <tr>\n      <th>0</th>\n      <td>(21599.0, 28799.0]</td>\n      <td>0.995961</td>\n      <td>0.777778</td>\n      <td>0.269231</td>\n      <td>0.400000</td>\n      <td>5171</td>\n      <td>2</td>\n      <td>19</td>\n      <td>7</td>\n    </tr>\n    <tr>\n      <th>1</th>\n      <td>(28799.0, 35999.0]</td>\n      <td>0.999234</td>\n      <td>0.916667</td>\n      <td>0.550000</td>\n      <td>0.687500</td>\n      <td>13036</td>\n      <td>1</td>\n      <td>9</td>\n      <td>11</td>\n    </tr>\n    <tr>\n      <th>2</th>\n      <td>(35999.0, 43199.0]</td>\n      <td>0.999464</td>\n      <td>0.928571</td>\n      <td>0.866667</td>\n      <td>0.896552</td>\n      <td>16757</td>\n      <td>3</td>\n      <td>6</td>\n      <td>39</td>\n    </tr>\n    <tr>\n      <th>3</th>\n      <td>(43199.0, 50399.0]</td>\n      <td>0.999217</td>\n      <td>0.800000</td>\n      <td>0.444444</td>\n      <td>0.571429</td>\n      <td>15297</td>\n      <td>2</td>\n      <td>10</td>\n      <td>8</td>\n    </tr>\n    <tr>\n      <th>4</th>\n      <td>(50399.0, 57599.0]</td>\n      <td>0.999685</td>\n      <td>1.000000</td>\n      <td>0.814815</td>\n      <td>0.897959</td>\n      <td>15838</td>\n      <td>0</td>\n      <td>5</td>\n      <td>22</td>\n    </tr>\n    <tr>\n      <th>5</th>\n      <td>(57599.0, 64799.0]</td>\n      <td>0.999553</td>\n      <td>1.000000</td>\n      <td>0.730769</td>\n      <td>0.844444</td>\n      <td>15642</td>\n      <td>0</td>\n      <td>7</td>\n      <td>19</td>\n    </tr>\n    <tr>\n      <th>6</th>\n      <td>(64799.0, 71999.0]</td>\n      <td>0.999578</td>\n      <td>1.000000</td>\n      <td>0.681818</td>\n      <td>0.810811</td>\n      <td>16579</td>\n      <td>0</td>\n      <td>7</td>\n      <td>15</td>\n    </tr>\n    <tr>\n      <th>7</th>\n      <td>(71999.0, 79199.0]</td>\n      <td>0.999470</td>\n      <td>0.833333</td>\n      <td>0.681818</td>\n      <td>0.750000</td>\n      <td>18850</td>\n      <td>3</td>\n      <td>7</td>\n      <td>15</td>\n    </tr>\n    <tr>\n      <th>8</th>\n      <td>(79199.0, 86399.0]</td>\n      <td>0.999801</td>\n      <td>1.000000</td>\n      <td>0.850000</td>\n      <td>0.918919</td>\n      <td>15039</td>\n      <td>0</td>\n      <td>3</td>\n      <td>17</td>\n    </tr>\n    <tr>\n      <th>9</th>\n      <td>(86399.0, 93599.0]</td>\n      <td>0.997559</td>\n      <td>0.400000</td>\n      <td>0.333333</td>\n      <td>0.363636</td>\n      <td>5717</td>\n      <td>6</td>\n      <td>8</td>\n      <td>4</td>\n    </tr>\n    <tr>\n      <th>10</th>\n      <td>(93599.0, 100799.0]</td>\n      <td>0.998247</td>\n      <td>0.925000</td>\n      <td>0.925000</td>\n      <td>0.925000</td>\n      <td>3380</td>\n      <td>3</td>\n      <td>3</td>\n      <td>37</td>\n    </tr>\n    <tr>\n      <th>11</th>\n      <td>(100799.0, 107999.0]</td>\n      <td>0.998768</td>\n      <td>0.888889</td>\n      <td>0.941176</td>\n      <td>0.914286</td>\n      <td>2417</td>\n      <td>2</td>\n      <td>1</td>\n      <td>16</td>\n    </tr>\n    <tr>\n      <th>12</th>\n      <td>(107999.0, 115199.0]</td>\n      <td>0.998698</td>\n      <td>0.400000</td>\n      <td>0.666667</td>\n      <td>0.500000</td>\n      <td>6133</td>\n      <td>6</td>\n      <td>2</td>\n      <td>4</td>\n    </tr>\n    <tr>\n      <th>13</th>\n      <td>(115199.0, 122399.0]</td>\n      <td>0.999770</td>\n      <td>0.625000</td>\n      <td>1.000000</td>\n      <td>0.769231</td>\n      <td>13049</td>\n      <td>3</td>\n      <td>0</td>\n      <td>5</td>\n    </tr>\n    <tr>\n      <th>14</th>\n      <td>(122399.0, 129599.0]</td>\n      <td>0.999580</td>\n      <td>0.846154</td>\n      <td>0.687500</td>\n      <td>0.758621</td>\n      <td>16631</td>\n      <td>2</td>\n      <td>5</td>\n      <td>11</td>\n    </tr>\n    <tr>\n      <th>15</th>\n      <td>(129599.0, 136799.0]</td>\n      <td>0.999612</td>\n      <td>1.000000</td>\n      <td>0.625000</td>\n      <td>0.769231</td>\n      <td>15452</td>\n      <td>0</td>\n      <td>6</td>\n      <td>10</td>\n    </tr>\n    <tr>\n      <th>16</th>\n      <td>(136799.0, 143999.0]</td>\n      <td>0.999592</td>\n      <td>1.000000</td>\n      <td>0.681818</td>\n      <td>0.810811</td>\n      <td>17144</td>\n      <td>0</td>\n      <td>7</td>\n      <td>15</td>\n    </tr>\n    <tr>\n      <th>17</th>\n      <td>(143999.0, 151199.0]</td>\n      <td>0.999646</td>\n      <td>1.000000</td>\n      <td>0.760000</td>\n      <td>0.863636</td>\n      <td>16926</td>\n      <td>0</td>\n      <td>6</td>\n      <td>19</td>\n    </tr>\n    <tr>\n      <th>18</th>\n      <td>(151199.0, 158399.0]</td>\n      <td>0.999441</td>\n      <td>1.000000</td>\n      <td>0.700000</td>\n      <td>0.823529</td>\n      <td>16057</td>\n      <td>0</td>\n      <td>9</td>\n      <td>21</td>\n    </tr>\n    <tr>\n      <th>19</th>\n      <td>(158399.0, 165599.0]</td>\n      <td>0.999872</td>\n      <td>1.000000</td>\n      <td>0.833333</td>\n      <td>0.909091</td>\n      <td>15572</td>\n      <td>0</td>\n      <td>2</td>\n      <td>10</td>\n    </tr>\n    <tr>\n      <th>20</th>\n      <td>(165599.0, 172799.0]</td>\n      <td>0.999205</td>\n      <td>0.555556</td>\n      <td>0.500000</td>\n      <td>0.526316</td>\n      <td>11306</td>\n      <td>4</td>\n      <td>5</td>\n      <td>5</td>\n    </tr>\n  </tbody>\n</table>\n</div>"
     },
     "execution_count": 102,
     "metadata": {},
     "output_type": "execute_result"
    }
   ],
   "source": [
    "metric_data = list(zip(group_time_l,ros_acc_l,ros_pre_l,ros_rec_l,ros_f1_l,ros_tn_l,ros_fp_l,ros_fn_l,ros_tp_l))\n",
    "df = pd.DataFrame(metric_data, columns =['period','Accuracy', 'Precision', 'Recall','F-1','TN','FP','FN','TP'])\n",
    "df.to_csv(f\"{result_dir}/dynamic_clf_ros_{results_name}.csv\")\n",
    "dfi.export(df.style.hide_index(), f\"{result_dir}/dynamic_clf_ros_{results_name}.png\")\n",
    "df"
   ],
   "metadata": {
    "collapsed": false
   }
  },
  {
   "cell_type": "markdown",
   "source": [
    "# Over sampling with SMOTHE"
   ],
   "metadata": {
    "collapsed": false
   }
  },
  {
   "cell_type": "code",
   "execution_count": 103,
   "outputs": [
    {
     "name": "stdout",
     "output_type": "stream",
     "text": [
      "CPU times: user 162 µs, sys: 1e+03 ns, total: 163 µs\n",
      "Wall time: 311 µs\n"
     ]
    }
   ],
   "source": [
    "%%time\n",
    "NUM_ESTIMATOR = 50\n",
    "rf_clf = RandomForestClassifier(n_estimators=NUM_ESTIMATOR)"
   ],
   "metadata": {
    "collapsed": false
   }
  },
  {
   "cell_type": "code",
   "execution_count": 104,
   "outputs": [
    {
     "name": "stdout",
     "output_type": "stream",
     "text": [
      "===== Processing group:(-1.0, 7199.0] , group number:1=====\n",
      "[(0, 6176), (1, 6176)]\n",
      "===== Processing group:(7199.0, 14399.0] , group number:2=====\n",
      "[(0, 9539), (1, 9539)]\n",
      "===== Processing group:(14399.0, 21599.0] , group number:3=====\n",
      "[(0, 12285), (1, 12285)]\n",
      "===== Processing group:(21599.0, 28799.0] , group number:4=====\n",
      "Predicting group 4\n",
      "[(0, 17458), (1, 17458)]\n",
      "===== Processing group:(28799.0, 35999.0] , group number:5=====\n",
      "Predicting group 5\n",
      "[(0, 30495), (1, 30495)]\n",
      "===== Processing group:(35999.0, 43199.0] , group number:6=====\n",
      "Predicting group 6\n",
      "[(0, 47255), (1, 47255)]\n",
      "===== Processing group:(43199.0, 50399.0] , group number:7=====\n",
      "Predicting group 7\n",
      "[(0, 62554), (1, 62554)]\n",
      "===== Processing group:(50399.0, 57599.0] , group number:8=====\n",
      "Predicting group 8\n",
      "[(0, 78392), (1, 78392)]\n",
      "===== Processing group:(57599.0, 64799.0] , group number:9=====\n",
      "Predicting group 9\n",
      "[(0, 94034), (1, 94034)]\n",
      "===== Processing group:(64799.0, 71999.0] , group number:10=====\n",
      "Predicting group 10\n",
      "[(0, 110613), (1, 110613)]\n",
      "===== Processing group:(71999.0, 79199.0] , group number:11=====\n",
      "Predicting group 11\n",
      "[(0, 129466), (1, 129466)]\n",
      "===== Processing group:(79199.0, 86399.0] , group number:12=====\n",
      "Predicting group 12\n",
      "[(0, 144505), (1, 144505)]\n",
      "===== Processing group:(86399.0, 93599.0] , group number:13=====\n",
      "Predicting group 13\n",
      "[(0, 150228), (1, 150228)]\n",
      "===== Processing group:(93599.0, 100799.0] , group number:14=====\n",
      "Predicting group 14\n",
      "[(0, 153611), (1, 153611)]\n",
      "===== Processing group:(100799.0, 107999.0] , group number:15=====\n",
      "Predicting group 15\n",
      "[(0, 156030), (1, 156030)]\n",
      "===== Processing group:(107999.0, 115199.0] , group number:16=====\n",
      "Predicting group 16\n",
      "[(0, 162169), (1, 162169)]\n",
      "===== Processing group:(115199.0, 122399.0] , group number:17=====\n",
      "Predicting group 17\n",
      "[(0, 175221), (1, 175221)]\n",
      "===== Processing group:(122399.0, 129599.0] , group number:18=====\n",
      "Predicting group 18\n",
      "[(0, 191854), (1, 191854)]\n",
      "===== Processing group:(129599.0, 136799.0] , group number:19=====\n",
      "Predicting group 19\n",
      "[(0, 207306), (1, 207306)]\n",
      "===== Processing group:(136799.0, 143999.0] , group number:20=====\n",
      "Predicting group 20\n",
      "[(0, 224450), (1, 224450)]\n",
      "===== Processing group:(143999.0, 151199.0] , group number:21=====\n",
      "Predicting group 21\n",
      "[(0, 241376), (1, 241376)]\n",
      "===== Processing group:(151199.0, 158399.0] , group number:22=====\n",
      "Predicting group 22\n",
      "[(0, 257433), (1, 257433)]\n",
      "===== Processing group:(158399.0, 165599.0] , group number:23=====\n",
      "Predicting group 23\n",
      "[(0, 273005), (1, 273005)]\n",
      "===== Processing group:(165599.0, 172799.0] , group number:24=====\n",
      "Predicting group 24\n",
      "[(0, 284315), (1, 284315)]\n"
     ]
    }
   ],
   "source": [
    "smote_acc_l = []\n",
    "smote_pre_l = []\n",
    "smote_rec_l = []\n",
    "smote_f1_l = []\n",
    "smote_tn_l= []\n",
    "smote_fp_l= []\n",
    "smote_fn_l = []\n",
    "smote_tp_l = []\n",
    "group_time_l = []\n",
    "train_data = pd.DataFrame()\n",
    "for group_time, group in group_df:\n",
    "    # print(\"\")\n",
    "    print(f\"===== Processing group:{group_time} , group number:{int((group_time.left + 1) / GROUP_TIME_LENGTH + 1)}=====\")\n",
    "    group_number = int((group_time.left + 1) / GROUP_TIME_LENGTH + 1)\n",
    "    if group_number > 3:\n",
    "        print(f\"Predicting group {group_number}\")\n",
    "        X_test = group[group.columns.difference([\"Class\",\"Time\"])]\n",
    "        y_train = group[\"Class\"]\n",
    "        model_prediction  = predict_with_metric(rf_clf,X_test,y_train)\n",
    "        group_time_l.append(group_time)\n",
    "        smote_acc_l.append(model_prediction[\"Accuracy\"])\n",
    "        smote_pre_l.append(model_prediction[\"Precision\"])\n",
    "        smote_rec_l.append(model_prediction[\"Recall\"])\n",
    "        smote_f1_l.append(model_prediction[\"F1\"])\n",
    "        smote_tn_l.append(model_prediction[\"TN\"])\n",
    "        smote_fp_l.append(model_prediction[\"FP\"])\n",
    "        smote_fn_l.append(model_prediction[\"FN\"])\n",
    "        smote_tp_l.append(model_prediction[\"TP\"])\n",
    "    # Random over sampling\n",
    "    train_data = pd.concat([train_data,group])\n",
    "    X_train = train_data[train_data.columns.difference([\"Class\",\"Time\"])]\n",
    "    y_train = train_data[\"Class\"]\n",
    "    smote = SMOTE(random_state=1234,k_neighbors=3)\n",
    "    X_group_smote, y_group_smote = smote.fit_resample(X_train,y_train)\n",
    "    # Check the number of records after over sampling\n",
    "    print(sorted(Counter(y_group_smote).items()))\n",
    "    # Training model\n",
    "    rf_clf.fit(X_train,y_train)\n",
    "    ## pdate train data\n"
   ],
   "metadata": {
    "collapsed": false
   }
  },
  {
   "cell_type": "code",
   "execution_count": 105,
   "outputs": [
    {
     "name": "stderr",
     "output_type": "stream",
     "text": [
      "/tmp/ipykernel_4066994/3518534297.py:4: FutureWarning: this method is deprecated in favour of `Styler.hide(axis=\"index\")`\n",
      "  dfi.export(df.style.hide_index(), f\"{result_dir}/dynamic_clf_smote_{results_name}.png\")\n",
      "[1113/145217.683596:WARNING:sandbox_linux.cc(380)] InitializeSandbox() called with multiple threads in process gpu-process.\n",
      "[1113/145217.686031:WARNING:bluez_dbus_manager.cc(247)] Floss manager not present, cannot set Floss enable/disable.\n",
      "[1113/145217.941054:INFO:headless_shell.cc(660)] Written to file /tmp/tmpfxsewu4w/temp.png.\n"
     ]
    },
    {
     "data": {
      "text/plain": "                  period  Accuracy  Precision    Recall       F-1     TN  FP  \\\n0     (21599.0, 28799.0]  0.996538   0.611111  0.846154  0.709677   5159  14   \n1     (28799.0, 35999.0]  0.999311   1.000000  0.550000  0.709677  13037   0   \n2     (35999.0, 43199.0]  0.999464   0.928571  0.866667  0.896552  16757   3   \n3     (43199.0, 50399.0]  0.999282   0.888889  0.444444  0.592593  15298   1   \n4     (50399.0, 57599.0]  0.999433   1.000000  0.666667  0.800000  15838   0   \n5     (57599.0, 64799.0]  0.999553   1.000000  0.730769  0.844444  15642   0   \n6     (64799.0, 71999.0]  0.999578   1.000000  0.681818  0.810811  16579   0   \n7     (71999.0, 79199.0]  0.999470   0.833333  0.681818  0.750000  18850   3   \n8     (79199.0, 86399.0]  0.999734   0.944444  0.850000  0.894737  15038   1   \n9     (86399.0, 93599.0]  0.997733   0.454545  0.416667  0.434783   5717   6   \n10   (93599.0, 100799.0]  0.998539   0.926829  0.950000  0.938272   3380   3   \n11  (100799.0, 107999.0]  0.998358   0.882353  0.882353  0.882353   2417   2   \n12  (107999.0, 115199.0]  0.999512   0.800000  0.666667  0.727273   6138   1   \n13  (115199.0, 122399.0]  0.999770   0.625000  1.000000  0.769231  13049   3   \n14  (122399.0, 129599.0]  0.999580   0.909091  0.625000  0.740741  16632   1   \n15  (129599.0, 136799.0]  0.999612   1.000000  0.625000  0.769231  15452   0   \n16  (136799.0, 143999.0]  0.999592   1.000000  0.681818  0.810811  17144   0   \n17  (143999.0, 151199.0]  0.999528   1.000000  0.680000  0.809524  16926   0   \n18  (151199.0, 158399.0]  0.999441   1.000000  0.700000  0.823529  16057   0   \n19  (158399.0, 165599.0]  0.999872   1.000000  0.833333  0.909091  15572   0   \n20  (165599.0, 172799.0]  0.999205   0.555556  0.500000  0.526316  11306   4   \n\n    FN  TP  \n0    4  22  \n1    9  11  \n2    6  39  \n3   10   8  \n4    9  18  \n5    7  19  \n6    7  15  \n7    7  15  \n8    3  17  \n9    7   5  \n10   2  38  \n11   2  15  \n12   2   4  \n13   0   5  \n14   6  10  \n15   6  10  \n16   7  15  \n17   8  17  \n18   9  21  \n19   2  10  \n20   5   5  ",
      "text/html": "<div>\n<style scoped>\n    .dataframe tbody tr th:only-of-type {\n        vertical-align: middle;\n    }\n\n    .dataframe tbody tr th {\n        vertical-align: top;\n    }\n\n    .dataframe thead th {\n        text-align: right;\n    }\n</style>\n<table border=\"1\" class=\"dataframe\">\n  <thead>\n    <tr style=\"text-align: right;\">\n      <th></th>\n      <th>period</th>\n      <th>Accuracy</th>\n      <th>Precision</th>\n      <th>Recall</th>\n      <th>F-1</th>\n      <th>TN</th>\n      <th>FP</th>\n      <th>FN</th>\n      <th>TP</th>\n    </tr>\n  </thead>\n  <tbody>\n    <tr>\n      <th>0</th>\n      <td>(21599.0, 28799.0]</td>\n      <td>0.996538</td>\n      <td>0.611111</td>\n      <td>0.846154</td>\n      <td>0.709677</td>\n      <td>5159</td>\n      <td>14</td>\n      <td>4</td>\n      <td>22</td>\n    </tr>\n    <tr>\n      <th>1</th>\n      <td>(28799.0, 35999.0]</td>\n      <td>0.999311</td>\n      <td>1.000000</td>\n      <td>0.550000</td>\n      <td>0.709677</td>\n      <td>13037</td>\n      <td>0</td>\n      <td>9</td>\n      <td>11</td>\n    </tr>\n    <tr>\n      <th>2</th>\n      <td>(35999.0, 43199.0]</td>\n      <td>0.999464</td>\n      <td>0.928571</td>\n      <td>0.866667</td>\n      <td>0.896552</td>\n      <td>16757</td>\n      <td>3</td>\n      <td>6</td>\n      <td>39</td>\n    </tr>\n    <tr>\n      <th>3</th>\n      <td>(43199.0, 50399.0]</td>\n      <td>0.999282</td>\n      <td>0.888889</td>\n      <td>0.444444</td>\n      <td>0.592593</td>\n      <td>15298</td>\n      <td>1</td>\n      <td>10</td>\n      <td>8</td>\n    </tr>\n    <tr>\n      <th>4</th>\n      <td>(50399.0, 57599.0]</td>\n      <td>0.999433</td>\n      <td>1.000000</td>\n      <td>0.666667</td>\n      <td>0.800000</td>\n      <td>15838</td>\n      <td>0</td>\n      <td>9</td>\n      <td>18</td>\n    </tr>\n    <tr>\n      <th>5</th>\n      <td>(57599.0, 64799.0]</td>\n      <td>0.999553</td>\n      <td>1.000000</td>\n      <td>0.730769</td>\n      <td>0.844444</td>\n      <td>15642</td>\n      <td>0</td>\n      <td>7</td>\n      <td>19</td>\n    </tr>\n    <tr>\n      <th>6</th>\n      <td>(64799.0, 71999.0]</td>\n      <td>0.999578</td>\n      <td>1.000000</td>\n      <td>0.681818</td>\n      <td>0.810811</td>\n      <td>16579</td>\n      <td>0</td>\n      <td>7</td>\n      <td>15</td>\n    </tr>\n    <tr>\n      <th>7</th>\n      <td>(71999.0, 79199.0]</td>\n      <td>0.999470</td>\n      <td>0.833333</td>\n      <td>0.681818</td>\n      <td>0.750000</td>\n      <td>18850</td>\n      <td>3</td>\n      <td>7</td>\n      <td>15</td>\n    </tr>\n    <tr>\n      <th>8</th>\n      <td>(79199.0, 86399.0]</td>\n      <td>0.999734</td>\n      <td>0.944444</td>\n      <td>0.850000</td>\n      <td>0.894737</td>\n      <td>15038</td>\n      <td>1</td>\n      <td>3</td>\n      <td>17</td>\n    </tr>\n    <tr>\n      <th>9</th>\n      <td>(86399.0, 93599.0]</td>\n      <td>0.997733</td>\n      <td>0.454545</td>\n      <td>0.416667</td>\n      <td>0.434783</td>\n      <td>5717</td>\n      <td>6</td>\n      <td>7</td>\n      <td>5</td>\n    </tr>\n    <tr>\n      <th>10</th>\n      <td>(93599.0, 100799.0]</td>\n      <td>0.998539</td>\n      <td>0.926829</td>\n      <td>0.950000</td>\n      <td>0.938272</td>\n      <td>3380</td>\n      <td>3</td>\n      <td>2</td>\n      <td>38</td>\n    </tr>\n    <tr>\n      <th>11</th>\n      <td>(100799.0, 107999.0]</td>\n      <td>0.998358</td>\n      <td>0.882353</td>\n      <td>0.882353</td>\n      <td>0.882353</td>\n      <td>2417</td>\n      <td>2</td>\n      <td>2</td>\n      <td>15</td>\n    </tr>\n    <tr>\n      <th>12</th>\n      <td>(107999.0, 115199.0]</td>\n      <td>0.999512</td>\n      <td>0.800000</td>\n      <td>0.666667</td>\n      <td>0.727273</td>\n      <td>6138</td>\n      <td>1</td>\n      <td>2</td>\n      <td>4</td>\n    </tr>\n    <tr>\n      <th>13</th>\n      <td>(115199.0, 122399.0]</td>\n      <td>0.999770</td>\n      <td>0.625000</td>\n      <td>1.000000</td>\n      <td>0.769231</td>\n      <td>13049</td>\n      <td>3</td>\n      <td>0</td>\n      <td>5</td>\n    </tr>\n    <tr>\n      <th>14</th>\n      <td>(122399.0, 129599.0]</td>\n      <td>0.999580</td>\n      <td>0.909091</td>\n      <td>0.625000</td>\n      <td>0.740741</td>\n      <td>16632</td>\n      <td>1</td>\n      <td>6</td>\n      <td>10</td>\n    </tr>\n    <tr>\n      <th>15</th>\n      <td>(129599.0, 136799.0]</td>\n      <td>0.999612</td>\n      <td>1.000000</td>\n      <td>0.625000</td>\n      <td>0.769231</td>\n      <td>15452</td>\n      <td>0</td>\n      <td>6</td>\n      <td>10</td>\n    </tr>\n    <tr>\n      <th>16</th>\n      <td>(136799.0, 143999.0]</td>\n      <td>0.999592</td>\n      <td>1.000000</td>\n      <td>0.681818</td>\n      <td>0.810811</td>\n      <td>17144</td>\n      <td>0</td>\n      <td>7</td>\n      <td>15</td>\n    </tr>\n    <tr>\n      <th>17</th>\n      <td>(143999.0, 151199.0]</td>\n      <td>0.999528</td>\n      <td>1.000000</td>\n      <td>0.680000</td>\n      <td>0.809524</td>\n      <td>16926</td>\n      <td>0</td>\n      <td>8</td>\n      <td>17</td>\n    </tr>\n    <tr>\n      <th>18</th>\n      <td>(151199.0, 158399.0]</td>\n      <td>0.999441</td>\n      <td>1.000000</td>\n      <td>0.700000</td>\n      <td>0.823529</td>\n      <td>16057</td>\n      <td>0</td>\n      <td>9</td>\n      <td>21</td>\n    </tr>\n    <tr>\n      <th>19</th>\n      <td>(158399.0, 165599.0]</td>\n      <td>0.999872</td>\n      <td>1.000000</td>\n      <td>0.833333</td>\n      <td>0.909091</td>\n      <td>15572</td>\n      <td>0</td>\n      <td>2</td>\n      <td>10</td>\n    </tr>\n    <tr>\n      <th>20</th>\n      <td>(165599.0, 172799.0]</td>\n      <td>0.999205</td>\n      <td>0.555556</td>\n      <td>0.500000</td>\n      <td>0.526316</td>\n      <td>11306</td>\n      <td>4</td>\n      <td>5</td>\n      <td>5</td>\n    </tr>\n  </tbody>\n</table>\n</div>"
     },
     "execution_count": 105,
     "metadata": {},
     "output_type": "execute_result"
    }
   ],
   "source": [
    "metric_data = list(zip(group_time_l,smote_acc_l,smote_pre_l,smote_rec_l,smote_f1_l,smote_tn_l,smote_fp_l,smote_fn_l,smote_tp_l))\n",
    "df = pd.DataFrame(metric_data, columns =['period','Accuracy', 'Precision', 'Recall','F-1','TN','FP','FN','TP'])\n",
    "df.to_csv(f\"{result_dir}/dynamic_clf_smote_{results_name}.csv\")\n",
    "dfi.export(df.style.hide_index(), f\"{result_dir}/dynamic_clf_smote_{results_name}.png\")\n",
    "df"
   ],
   "metadata": {
    "collapsed": false
   }
  },
  {
   "cell_type": "code",
   "execution_count": 82,
   "outputs": [],
   "source": [],
   "metadata": {
    "collapsed": false
   }
  },
  {
   "cell_type": "code",
   "execution_count": 82,
   "outputs": [],
   "source": [],
   "metadata": {
    "collapsed": false
   }
  }
 ],
 "metadata": {
  "kernelspec": {
   "display_name": "Python 3",
   "language": "python",
   "name": "python3"
  },
  "language_info": {
   "codemirror_mode": {
    "name": "ipython",
    "version": 2
   },
   "file_extension": ".py",
   "mimetype": "text/x-python",
   "name": "python",
   "nbconvert_exporter": "python",
   "pygments_lexer": "ipython2",
   "version": "2.7.6"
  }
 },
 "nbformat": 4,
 "nbformat_minor": 0
}
