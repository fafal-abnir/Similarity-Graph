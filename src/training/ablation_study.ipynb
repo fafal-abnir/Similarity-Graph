{
 "cells": [
  {
   "cell_type": "code",
   "execution_count": 6,
   "outputs": [],
   "source": [
    "import numpy as np\n",
    "import pandas as pd\n",
    "from sklearn.model_selection import train_test_split\n",
    "from sklearn.preprocessing import StandardScaler\n",
    "from sklearn.ensemble import RandomForestClassifier\n",
    "from sklearn.metrics import precision_score, recall_score, f1_score, accuracy_score\n",
    "from sklearn.metrics import confusion_matrix\n",
    "import matplotlib.pyplot as plt\n",
    "from collections import Counter\n",
    "from imblearn.over_sampling import RandomOverSampler, SMOTE\n",
    "import dataframe_image as dfi"
   ],
   "metadata": {
    "collapsed": false
   }
  },
  {
   "cell_type": "markdown",
   "source": [
    "https://www.analyticsvidhya.com/blog/2017/03/imbalanced-data-classification/\n",
    "https://stackoverflow.com/questions/55921286/should-i-balance-the-test-set-when-i-have-highly-unbalanced-data\n"
   ],
   "metadata": {
    "collapsed": false
   }
  },
  {
   "cell_type": "code",
   "execution_count": 7,
   "outputs": [
    {
     "data": {
      "text/plain": "   Unnamed: 0  Time        V1        V2        V3        V4        V5  \\\n0           0   0.0 -1.359807 -0.072781  2.536347  1.378155 -0.338321   \n1           1   0.0  1.191857  0.266151  0.166480  0.448154  0.060018   \n2           2   1.0 -1.358354 -1.340163  1.773209  0.379780 -0.503198   \n3           3   1.0 -0.966272 -0.185226  1.792993 -0.863291 -0.010309   \n4           4   2.0 -1.158233  0.877737  1.548718  0.403034 -0.407193   \n\n         V6        V7        V8  ...       V25       V26       V27       V28  \\\n0  0.462388  0.239599  0.098698  ...  0.128539 -0.189115  0.133558 -0.021053   \n1 -0.082361 -0.078803  0.085102  ...  0.167170  0.125895 -0.008983  0.014724   \n2  1.800499  0.791461  0.247676  ... -0.327642 -0.139097 -0.055353 -0.059752   \n3  1.247203  0.237609  0.377436  ...  0.647376 -0.221929  0.062723  0.061458   \n4  0.095921  0.592941 -0.270533  ... -0.206010  0.502292  0.219422  0.215153   \n\n   Class  inversed_dist  fraud_neighbor_count  community_risk  \\\n0      0            0.0                     0        0.002786   \n1      0            0.0                     0        0.000000   \n2      0            0.0                     0        0.000000   \n3      0            0.0                     0        0.001603   \n4      0            0.0                     0        0.002786   \n\n   personalized_page_rank  normAmount  \n0                0.000177    0.244964  \n1                0.000359   -0.342475  \n2                0.000047    1.160686  \n3                0.000064    0.140534  \n4                0.000136   -0.073403  \n\n[5 rows x 36 columns]",
      "text/html": "<div>\n<style scoped>\n    .dataframe tbody tr th:only-of-type {\n        vertical-align: middle;\n    }\n\n    .dataframe tbody tr th {\n        vertical-align: top;\n    }\n\n    .dataframe thead th {\n        text-align: right;\n    }\n</style>\n<table border=\"1\" class=\"dataframe\">\n  <thead>\n    <tr style=\"text-align: right;\">\n      <th></th>\n      <th>Unnamed: 0</th>\n      <th>Time</th>\n      <th>V1</th>\n      <th>V2</th>\n      <th>V3</th>\n      <th>V4</th>\n      <th>V5</th>\n      <th>V6</th>\n      <th>V7</th>\n      <th>V8</th>\n      <th>...</th>\n      <th>V25</th>\n      <th>V26</th>\n      <th>V27</th>\n      <th>V28</th>\n      <th>Class</th>\n      <th>inversed_dist</th>\n      <th>fraud_neighbor_count</th>\n      <th>community_risk</th>\n      <th>personalized_page_rank</th>\n      <th>normAmount</th>\n    </tr>\n  </thead>\n  <tbody>\n    <tr>\n      <th>0</th>\n      <td>0</td>\n      <td>0.0</td>\n      <td>-1.359807</td>\n      <td>-0.072781</td>\n      <td>2.536347</td>\n      <td>1.378155</td>\n      <td>-0.338321</td>\n      <td>0.462388</td>\n      <td>0.239599</td>\n      <td>0.098698</td>\n      <td>...</td>\n      <td>0.128539</td>\n      <td>-0.189115</td>\n      <td>0.133558</td>\n      <td>-0.021053</td>\n      <td>0</td>\n      <td>0.0</td>\n      <td>0</td>\n      <td>0.002786</td>\n      <td>0.000177</td>\n      <td>0.244964</td>\n    </tr>\n    <tr>\n      <th>1</th>\n      <td>1</td>\n      <td>0.0</td>\n      <td>1.191857</td>\n      <td>0.266151</td>\n      <td>0.166480</td>\n      <td>0.448154</td>\n      <td>0.060018</td>\n      <td>-0.082361</td>\n      <td>-0.078803</td>\n      <td>0.085102</td>\n      <td>...</td>\n      <td>0.167170</td>\n      <td>0.125895</td>\n      <td>-0.008983</td>\n      <td>0.014724</td>\n      <td>0</td>\n      <td>0.0</td>\n      <td>0</td>\n      <td>0.000000</td>\n      <td>0.000359</td>\n      <td>-0.342475</td>\n    </tr>\n    <tr>\n      <th>2</th>\n      <td>2</td>\n      <td>1.0</td>\n      <td>-1.358354</td>\n      <td>-1.340163</td>\n      <td>1.773209</td>\n      <td>0.379780</td>\n      <td>-0.503198</td>\n      <td>1.800499</td>\n      <td>0.791461</td>\n      <td>0.247676</td>\n      <td>...</td>\n      <td>-0.327642</td>\n      <td>-0.139097</td>\n      <td>-0.055353</td>\n      <td>-0.059752</td>\n      <td>0</td>\n      <td>0.0</td>\n      <td>0</td>\n      <td>0.000000</td>\n      <td>0.000047</td>\n      <td>1.160686</td>\n    </tr>\n    <tr>\n      <th>3</th>\n      <td>3</td>\n      <td>1.0</td>\n      <td>-0.966272</td>\n      <td>-0.185226</td>\n      <td>1.792993</td>\n      <td>-0.863291</td>\n      <td>-0.010309</td>\n      <td>1.247203</td>\n      <td>0.237609</td>\n      <td>0.377436</td>\n      <td>...</td>\n      <td>0.647376</td>\n      <td>-0.221929</td>\n      <td>0.062723</td>\n      <td>0.061458</td>\n      <td>0</td>\n      <td>0.0</td>\n      <td>0</td>\n      <td>0.001603</td>\n      <td>0.000064</td>\n      <td>0.140534</td>\n    </tr>\n    <tr>\n      <th>4</th>\n      <td>4</td>\n      <td>2.0</td>\n      <td>-1.158233</td>\n      <td>0.877737</td>\n      <td>1.548718</td>\n      <td>0.403034</td>\n      <td>-0.407193</td>\n      <td>0.095921</td>\n      <td>0.592941</td>\n      <td>-0.270533</td>\n      <td>...</td>\n      <td>-0.206010</td>\n      <td>0.502292</td>\n      <td>0.219422</td>\n      <td>0.215153</td>\n      <td>0</td>\n      <td>0.0</td>\n      <td>0</td>\n      <td>0.002786</td>\n      <td>0.000136</td>\n      <td>-0.073403</td>\n    </tr>\n  </tbody>\n</table>\n<p>5 rows × 36 columns</p>\n</div>"
     },
     "execution_count": 7,
     "metadata": {},
     "output_type": "execute_result"
    }
   ],
   "source": [
    "df = pd.read_csv(\"../../data/final/trans_fraud_extra_2022-10-31_12:38:18.csv\")\n",
    "df['normAmount'] = StandardScaler().fit_transform(df['Amount'].values.reshape (-1,1))\n",
    "df = df.drop(['Amount'], axis = 1)\n",
    "\n",
    "df.head()\n"
   ],
   "metadata": {
    "collapsed": false
   }
  },
  {
   "cell_type": "code",
   "execution_count": 8,
   "outputs": [
    {
     "data": {
      "text/plain": "Index(['Unnamed: 0', 'Time', 'V1', 'V2', 'V3', 'V4', 'V5', 'V6', 'V7', 'V8',\n       'V9', 'V10', 'V11', 'V12', 'V13', 'V14', 'V15', 'V16', 'V17', 'V18',\n       'V19', 'V20', 'V21', 'V22', 'V23', 'V24', 'V25', 'V26', 'V27', 'V28',\n       'Class', 'inversed_dist', 'fraud_neighbor_count', 'community_risk',\n       'personalized_page_rank', 'normAmount'],\n      dtype='object')"
     },
     "execution_count": 8,
     "metadata": {},
     "output_type": "execute_result"
    }
   ],
   "source": [
    "df.columns"
   ],
   "metadata": {
    "collapsed": false
   }
  },
  {
   "cell_type": "code",
   "execution_count": 19,
   "outputs": [],
   "source": [
    "result_dir = \"../../results\"\n",
    "results_name = \"ablation_all_previous_in_training\""
   ],
   "metadata": {
    "collapsed": false
   }
  },
  {
   "cell_type": "code",
   "execution_count": 20,
   "outputs": [
    {
     "ename": "KeyError",
     "evalue": "'Time'",
     "output_type": "error",
     "traceback": [
      "\u001B[0;31m---------------------------------------------------------------------------\u001B[0m",
      "\u001B[0;31mKeyError\u001B[0m                                  Traceback (most recent call last)",
      "File \u001B[0;32m~/.cache/pypoetry/virtualenvs/similarity-graph-WKuwPdS3-py3.10/lib/python3.10/site-packages/pandas/core/indexes/base.py:3800\u001B[0m, in \u001B[0;36mIndex.get_loc\u001B[0;34m(self, key, method, tolerance)\u001B[0m\n\u001B[1;32m   3799\u001B[0m \u001B[38;5;28;01mtry\u001B[39;00m:\n\u001B[0;32m-> 3800\u001B[0m     \u001B[38;5;28;01mreturn\u001B[39;00m \u001B[38;5;28;43mself\u001B[39;49m\u001B[38;5;241;43m.\u001B[39;49m\u001B[43m_engine\u001B[49m\u001B[38;5;241;43m.\u001B[39;49m\u001B[43mget_loc\u001B[49m\u001B[43m(\u001B[49m\u001B[43mcasted_key\u001B[49m\u001B[43m)\u001B[49m\n\u001B[1;32m   3801\u001B[0m \u001B[38;5;28;01mexcept\u001B[39;00m \u001B[38;5;167;01mKeyError\u001B[39;00m \u001B[38;5;28;01mas\u001B[39;00m err:\n",
      "File \u001B[0;32m~/.cache/pypoetry/virtualenvs/similarity-graph-WKuwPdS3-py3.10/lib/python3.10/site-packages/pandas/_libs/index.pyx:138\u001B[0m, in \u001B[0;36mpandas._libs.index.IndexEngine.get_loc\u001B[0;34m()\u001B[0m\n",
      "File \u001B[0;32m~/.cache/pypoetry/virtualenvs/similarity-graph-WKuwPdS3-py3.10/lib/python3.10/site-packages/pandas/_libs/index.pyx:165\u001B[0m, in \u001B[0;36mpandas._libs.index.IndexEngine.get_loc\u001B[0;34m()\u001B[0m\n",
      "File \u001B[0;32mpandas/_libs/hashtable_class_helper.pxi:5745\u001B[0m, in \u001B[0;36mpandas._libs.hashtable.PyObjectHashTable.get_item\u001B[0;34m()\u001B[0m\n",
      "File \u001B[0;32mpandas/_libs/hashtable_class_helper.pxi:5753\u001B[0m, in \u001B[0;36mpandas._libs.hashtable.PyObjectHashTable.get_item\u001B[0;34m()\u001B[0m\n",
      "\u001B[0;31mKeyError\u001B[0m: 'Time'",
      "\nThe above exception was the direct cause of the following exception:\n",
      "\u001B[0;31mKeyError\u001B[0m                                  Traceback (most recent call last)",
      "Cell \u001B[0;32mIn [20], line 2\u001B[0m\n\u001B[1;32m      1\u001B[0m GROUP_TIME_LENGTH \u001B[38;5;241m=\u001B[39m \u001B[38;5;241m7200\u001B[39m\n\u001B[0;32m----> 2\u001B[0m max_time \u001B[38;5;241m=\u001B[39m \u001B[43mdf\u001B[49m\u001B[43m[\u001B[49m\u001B[38;5;124;43m\"\u001B[39;49m\u001B[38;5;124;43mTime\u001B[39;49m\u001B[38;5;124;43m\"\u001B[39;49m\u001B[43m]\u001B[49m\u001B[38;5;241m.\u001B[39mmax()\n\u001B[1;32m      3\u001B[0m group_df \u001B[38;5;241m=\u001B[39m df\u001B[38;5;241m.\u001B[39mgroupby(pd\u001B[38;5;241m.\u001B[39mcut(df[\u001B[38;5;124m\"\u001B[39m\u001B[38;5;124mTime\u001B[39m\u001B[38;5;124m\"\u001B[39m], np\u001B[38;5;241m.\u001B[39marange(\u001B[38;5;241m-\u001B[39m\u001B[38;5;241m1\u001B[39m, max_time \u001B[38;5;241m+\u001B[39m GROUP_TIME_LENGTH, GROUP_TIME_LENGTH)))\n",
      "File \u001B[0;32m~/.cache/pypoetry/virtualenvs/similarity-graph-WKuwPdS3-py3.10/lib/python3.10/site-packages/pandas/core/frame.py:3805\u001B[0m, in \u001B[0;36mDataFrame.__getitem__\u001B[0;34m(self, key)\u001B[0m\n\u001B[1;32m   3803\u001B[0m \u001B[38;5;28;01mif\u001B[39;00m \u001B[38;5;28mself\u001B[39m\u001B[38;5;241m.\u001B[39mcolumns\u001B[38;5;241m.\u001B[39mnlevels \u001B[38;5;241m>\u001B[39m \u001B[38;5;241m1\u001B[39m:\n\u001B[1;32m   3804\u001B[0m     \u001B[38;5;28;01mreturn\u001B[39;00m \u001B[38;5;28mself\u001B[39m\u001B[38;5;241m.\u001B[39m_getitem_multilevel(key)\n\u001B[0;32m-> 3805\u001B[0m indexer \u001B[38;5;241m=\u001B[39m \u001B[38;5;28;43mself\u001B[39;49m\u001B[38;5;241;43m.\u001B[39;49m\u001B[43mcolumns\u001B[49m\u001B[38;5;241;43m.\u001B[39;49m\u001B[43mget_loc\u001B[49m\u001B[43m(\u001B[49m\u001B[43mkey\u001B[49m\u001B[43m)\u001B[49m\n\u001B[1;32m   3806\u001B[0m \u001B[38;5;28;01mif\u001B[39;00m is_integer(indexer):\n\u001B[1;32m   3807\u001B[0m     indexer \u001B[38;5;241m=\u001B[39m [indexer]\n",
      "File \u001B[0;32m~/.cache/pypoetry/virtualenvs/similarity-graph-WKuwPdS3-py3.10/lib/python3.10/site-packages/pandas/core/indexes/base.py:3802\u001B[0m, in \u001B[0;36mIndex.get_loc\u001B[0;34m(self, key, method, tolerance)\u001B[0m\n\u001B[1;32m   3800\u001B[0m     \u001B[38;5;28;01mreturn\u001B[39;00m \u001B[38;5;28mself\u001B[39m\u001B[38;5;241m.\u001B[39m_engine\u001B[38;5;241m.\u001B[39mget_loc(casted_key)\n\u001B[1;32m   3801\u001B[0m \u001B[38;5;28;01mexcept\u001B[39;00m \u001B[38;5;167;01mKeyError\u001B[39;00m \u001B[38;5;28;01mas\u001B[39;00m err:\n\u001B[0;32m-> 3802\u001B[0m     \u001B[38;5;28;01mraise\u001B[39;00m \u001B[38;5;167;01mKeyError\u001B[39;00m(key) \u001B[38;5;28;01mfrom\u001B[39;00m \u001B[38;5;21;01merr\u001B[39;00m\n\u001B[1;32m   3803\u001B[0m \u001B[38;5;28;01mexcept\u001B[39;00m \u001B[38;5;167;01mTypeError\u001B[39;00m:\n\u001B[1;32m   3804\u001B[0m     \u001B[38;5;66;03m# If we have a listlike key, _check_indexing_error will raise\u001B[39;00m\n\u001B[1;32m   3805\u001B[0m     \u001B[38;5;66;03m#  InvalidIndexError. Otherwise we fall through and re-raise\u001B[39;00m\n\u001B[1;32m   3806\u001B[0m     \u001B[38;5;66;03m#  the TypeError.\u001B[39;00m\n\u001B[1;32m   3807\u001B[0m     \u001B[38;5;28mself\u001B[39m\u001B[38;5;241m.\u001B[39m_check_indexing_error(key)\n",
      "\u001B[0;31mKeyError\u001B[0m: 'Time'"
     ]
    }
   ],
   "source": [
    "GROUP_TIME_LENGTH = 7200\n",
    "max_time = df[\"Time\"].max()\n",
    "group_df = df.groupby(pd.cut(df[\"Time\"], np.arange(-1, max_time + GROUP_TIME_LENGTH, GROUP_TIME_LENGTH)))\n"
   ],
   "metadata": {
    "collapsed": false
   }
  },
  {
   "cell_type": "markdown",
   "source": [
    "Distribution of Target class"
   ],
   "metadata": {
    "collapsed": false
   }
  },
  {
   "cell_type": "code",
   "execution_count": null,
   "outputs": [],
   "source": [
    "df[\"Class\"].value_counts()"
   ],
   "metadata": {
    "collapsed": false
   }
  },
  {
   "cell_type": "markdown",
   "source": [
    "Defining classifier"
   ],
   "metadata": {
    "collapsed": false
   }
  },
  {
   "cell_type": "code",
   "execution_count": null,
   "outputs": [],
   "source": [
    "def predict_with_metric(model,X_test, y_test):\n",
    "    prediction = model.predict(X_test)\n",
    "    conf_matrix = confusion_matrix(y_test,prediction)\n",
    "    tn= conf_matrix[0][0]\n",
    "    fp= conf_matrix[0][1]\n",
    "    fn = conf_matrix[1][0]\n",
    "    tp =conf_matrix[1][1]\n",
    "    return {\"Prediction\":list(prediction.flatten()),\"Accuracy\":accuracy_score(y_test, prediction),\"Precision\":precision_score(y_test, prediction),\"Recall\":recall_score(y_test,prediction),\"F1\":f1_score(y_test,prediction),\"TN\":tn,\"FP\":fp,\"FN\":fn,\"TP\":tp}"
   ],
   "metadata": {
    "collapsed": false
   }
  },
  {
   "cell_type": "code",
   "execution_count": null,
   "outputs": [],
   "source": [
    "%%time\n",
    "NUM_ESTIMATOR = 50\n",
    "rf_clf = RandomForestClassifier(n_estimators=NUM_ESTIMATOR)"
   ],
   "metadata": {
    "collapsed": false
   }
  },
  {
   "cell_type": "code",
   "execution_count": 24,
   "outputs": [],
   "source": [
    "def ablation_test(feature_name):\n",
    "    acc_l = []\n",
    "    pre_l = []\n",
    "    rec_l = []\n",
    "    f1_l = []\n",
    "    tn_l= []\n",
    "    fp_l= []\n",
    "    fn_l = []\n",
    "    tp_l = []\n",
    "    group_time_l = []\n",
    "    train_data = pd.DataFrame()\n",
    "    for group_time, group in group_df:\n",
    "        # print(\"\")\n",
    "        print(f\"===== Processing group:{group_time} , group number:{int((group_time.left + 1) / GROUP_TIME_LENGTH + 1)}=====\")\n",
    "        group_number = int((group_time.left + 1) / GROUP_TIME_LENGTH + 1)\n",
    "        if group_number > 3:\n",
    "            print(f\"Predicting group {group_number}\")\n",
    "            X_test = group[group.columns.difference([\"Class\",\"Time\",feature_name])]\n",
    "            y_train = group[\"Class\"]\n",
    "            model_prediction  = predict_with_metric(rf_clf,X_test,y_train)\n",
    "            group_time_l.append(group_time)\n",
    "            acc_l.append(model_prediction[\"Accuracy\"])\n",
    "            pre_l.append(model_prediction[\"Precision\"])\n",
    "            rec_l.append(model_prediction[\"Recall\"])\n",
    "            f1_l.append(model_prediction[\"F1\"])\n",
    "            tn_l.append(model_prediction[\"TN\"])\n",
    "            fp_l.append(model_prediction[\"FP\"])\n",
    "            fn_l.append(model_prediction[\"FN\"])\n",
    "            tp_l.append(model_prediction[\"TP\"])\n",
    "        train_data = pd.concat([train_data,group])\n",
    "        X_train = train_data[train_data.columns.difference([\"Class\",\"Time\",feature_name])]\n",
    "        y_train = train_data[\"Class\"]\n",
    "        rf_clf.fit(X_train,y_train)\n",
    "    metric_data = list(zip(group_time_l,acc_l,pre_l,rec_l,f1_l,tn_l,fp_l,fn_l,tp_l))\n",
    "    df = pd.DataFrame(metric_data, columns =['period','Accuracy', 'Precision', 'Recall','F-1','TN','FP','FN','TP'])\n",
    "    df.to_csv(f\"{result_dir}/dynamic_clf_normal_extra_feature_{results_name}_{feature_name}.csv\")\n",
    "    dfi.export(df.style.hide_index(), f\"{result_dir}/dynamic_clf_normal_extra_feature_{results_name}_{feature_name}.png\")\n",
    "    ## Total metrics\n",
    "    TN = sum(tn_l)\n",
    "    TP = sum(tp_l)\n",
    "    FN = sum(fn_l)\n",
    "    FP = sum(fp_l)\n",
    "    metrics = {}\n",
    "    metrics[\"Precision\"] = TP/(TP+FP)\n",
    "    metrics[\"Recall\"] = TP/(TP+FN)\n",
    "    metrics[\"F1\"] = (metrics[\"Precision\"]*metrics[\"Recall\"]*2)/(metrics[\"Precision\"]+metrics[\"Recall\"])\n",
    "    metrics_df = pd.DataFrame(columns=[\"Precision\",\"Recall\",\"F1\"])\n",
    "    metrics_df = metrics_df.append(metrics,ignore_index=True)\n",
    "    dfi.export(metrics_df.style.hide_index(), f\"{result_dir}/dynamic_clf_normal_extra_feature_{results_name}_{feature_name}_total_metrics.png\")\n",
    "\n"
   ],
   "metadata": {
    "collapsed": false
   }
  },
  {
   "cell_type": "code",
   "execution_count": 25,
   "outputs": [
    {
     "name": "stdout",
     "output_type": "stream",
     "text": [
      "===== Processing group:(-1.0, 7199.0] , group number:1=====\n",
      "===== Processing group:(7199.0, 14399.0] , group number:2=====\n",
      "===== Processing group:(14399.0, 21599.0] , group number:3=====\n",
      "===== Processing group:(21599.0, 28799.0] , group number:4=====\n",
      "Predicting group 4\n",
      "===== Processing group:(28799.0, 35999.0] , group number:5=====\n",
      "Predicting group 5\n",
      "===== Processing group:(35999.0, 43199.0] , group number:6=====\n",
      "Predicting group 6\n",
      "===== Processing group:(43199.0, 50399.0] , group number:7=====\n",
      "Predicting group 7\n",
      "===== Processing group:(50399.0, 57599.0] , group number:8=====\n",
      "Predicting group 8\n",
      "===== Processing group:(57599.0, 64799.0] , group number:9=====\n",
      "Predicting group 9\n",
      "===== Processing group:(64799.0, 71999.0] , group number:10=====\n",
      "Predicting group 10\n",
      "===== Processing group:(71999.0, 79199.0] , group number:11=====\n",
      "Predicting group 11\n",
      "===== Processing group:(79199.0, 86399.0] , group number:12=====\n",
      "Predicting group 12\n",
      "===== Processing group:(86399.0, 93599.0] , group number:13=====\n",
      "Predicting group 13\n",
      "===== Processing group:(93599.0, 100799.0] , group number:14=====\n",
      "Predicting group 14\n",
      "===== Processing group:(100799.0, 107999.0] , group number:15=====\n",
      "Predicting group 15\n",
      "===== Processing group:(107999.0, 115199.0] , group number:16=====\n",
      "Predicting group 16\n",
      "===== Processing group:(115199.0, 122399.0] , group number:17=====\n",
      "Predicting group 17\n",
      "===== Processing group:(122399.0, 129599.0] , group number:18=====\n",
      "Predicting group 18\n",
      "===== Processing group:(129599.0, 136799.0] , group number:19=====\n",
      "Predicting group 19\n",
      "===== Processing group:(136799.0, 143999.0] , group number:20=====\n",
      "Predicting group 20\n",
      "===== Processing group:(143999.0, 151199.0] , group number:21=====\n",
      "Predicting group 21\n",
      "===== Processing group:(151199.0, 158399.0] , group number:22=====\n",
      "Predicting group 22\n",
      "===== Processing group:(158399.0, 165599.0] , group number:23=====\n",
      "Predicting group 23\n",
      "===== Processing group:(165599.0, 172799.0] , group number:24=====\n",
      "Predicting group 24\n"
     ]
    },
    {
     "name": "stderr",
     "output_type": "stream",
     "text": [
      "/tmp/ipykernel_3247915/3207613218.py:37: FutureWarning: this method is deprecated in favour of `Styler.hide(axis=\"index\")`\n",
      "  dfi.export(df.style.hide_index(), f\"{result_dir}/dynamic_clf_normal_extra_feature_{results_name}_{feature_name}.png\")\n",
      "[1114/021340.662726:WARNING:sandbox_linux.cc(380)] InitializeSandbox() called with multiple threads in process gpu-process.\n",
      "[1114/021340.674835:WARNING:bluez_dbus_manager.cc(247)] Floss manager not present, cannot set Floss enable/disable.\n",
      "[1114/021340.821852:INFO:headless_shell.cc(660)] Written to file /tmp/tmpvn9x3i1w/temp.png.\n",
      "/tmp/ipykernel_3247915/3207613218.py:48: FutureWarning: The frame.append method is deprecated and will be removed from pandas in a future version. Use pandas.concat instead.\n",
      "  metrics_df = metrics_df.append(metrics,ignore_index=True)\n",
      "/tmp/ipykernel_3247915/3207613218.py:49: FutureWarning: this method is deprecated in favour of `Styler.hide(axis=\"index\")`\n",
      "  dfi.export(metrics_df.style.hide_index(), f\"{result_dir}/dynamic_clf_normal_extra_feature_{results_name}_{feature_name}_total_metrics.png\")\n",
      "[1114/021340.953622:WARNING:sandbox_linux.cc(380)] InitializeSandbox() called with multiple threads in process gpu-process.\n",
      "[1114/021340.963588:WARNING:bluez_dbus_manager.cc(247)] Floss manager not present, cannot set Floss enable/disable.\n",
      "[1114/021341.075363:INFO:headless_shell.cc(660)] Written to file /tmp/tmp6jm01ohy/temp.png.\n"
     ]
    },
    {
     "name": "stdout",
     "output_type": "stream",
     "text": [
      "===== Processing group:(-1.0, 7199.0] , group number:1=====\n",
      "===== Processing group:(7199.0, 14399.0] , group number:2=====\n",
      "===== Processing group:(14399.0, 21599.0] , group number:3=====\n",
      "===== Processing group:(21599.0, 28799.0] , group number:4=====\n",
      "Predicting group 4\n",
      "===== Processing group:(28799.0, 35999.0] , group number:5=====\n",
      "Predicting group 5\n",
      "===== Processing group:(35999.0, 43199.0] , group number:6=====\n",
      "Predicting group 6\n",
      "===== Processing group:(43199.0, 50399.0] , group number:7=====\n",
      "Predicting group 7\n",
      "===== Processing group:(50399.0, 57599.0] , group number:8=====\n",
      "Predicting group 8\n",
      "===== Processing group:(57599.0, 64799.0] , group number:9=====\n",
      "Predicting group 9\n",
      "===== Processing group:(64799.0, 71999.0] , group number:10=====\n",
      "Predicting group 10\n",
      "===== Processing group:(71999.0, 79199.0] , group number:11=====\n",
      "Predicting group 11\n",
      "===== Processing group:(79199.0, 86399.0] , group number:12=====\n",
      "Predicting group 12\n",
      "===== Processing group:(86399.0, 93599.0] , group number:13=====\n",
      "Predicting group 13\n",
      "===== Processing group:(93599.0, 100799.0] , group number:14=====\n",
      "Predicting group 14\n",
      "===== Processing group:(100799.0, 107999.0] , group number:15=====\n",
      "Predicting group 15\n",
      "===== Processing group:(107999.0, 115199.0] , group number:16=====\n",
      "Predicting group 16\n",
      "===== Processing group:(115199.0, 122399.0] , group number:17=====\n",
      "Predicting group 17\n",
      "===== Processing group:(122399.0, 129599.0] , group number:18=====\n",
      "Predicting group 18\n",
      "===== Processing group:(129599.0, 136799.0] , group number:19=====\n",
      "Predicting group 19\n",
      "===== Processing group:(136799.0, 143999.0] , group number:20=====\n",
      "Predicting group 20\n",
      "===== Processing group:(143999.0, 151199.0] , group number:21=====\n",
      "Predicting group 21\n",
      "===== Processing group:(151199.0, 158399.0] , group number:22=====\n",
      "Predicting group 22\n",
      "===== Processing group:(158399.0, 165599.0] , group number:23=====\n",
      "Predicting group 23\n",
      "===== Processing group:(165599.0, 172799.0] , group number:24=====\n",
      "Predicting group 24\n"
     ]
    },
    {
     "name": "stderr",
     "output_type": "stream",
     "text": [
      "/tmp/ipykernel_3247915/3207613218.py:37: FutureWarning: this method is deprecated in favour of `Styler.hide(axis=\"index\")`\n",
      "  dfi.export(df.style.hide_index(), f\"{result_dir}/dynamic_clf_normal_extra_feature_{results_name}_{feature_name}.png\")\n",
      "[1114/022548.741298:WARNING:sandbox_linux.cc(380)] InitializeSandbox() called with multiple threads in process gpu-process.\n",
      "[1114/022548.749856:WARNING:bluez_dbus_manager.cc(247)] Floss manager not present, cannot set Floss enable/disable.\n",
      "[1114/022548.856950:INFO:headless_shell.cc(660)] Written to file /tmp/tmpn29dkzm1/temp.png.\n",
      "/tmp/ipykernel_3247915/3207613218.py:48: FutureWarning: The frame.append method is deprecated and will be removed from pandas in a future version. Use pandas.concat instead.\n",
      "  metrics_df = metrics_df.append(metrics,ignore_index=True)\n",
      "/tmp/ipykernel_3247915/3207613218.py:49: FutureWarning: this method is deprecated in favour of `Styler.hide(axis=\"index\")`\n",
      "  dfi.export(metrics_df.style.hide_index(), f\"{result_dir}/dynamic_clf_normal_extra_feature_{results_name}_{feature_name}_total_metrics.png\")\n",
      "[1114/022548.991006:WARNING:sandbox_linux.cc(380)] InitializeSandbox() called with multiple threads in process gpu-process.\n",
      "[1114/022549.000771:WARNING:bluez_dbus_manager.cc(247)] Floss manager not present, cannot set Floss enable/disable.\n",
      "[1114/022549.136075:INFO:headless_shell.cc(660)] Written to file /tmp/tmpllrjxr21/temp.png.\n"
     ]
    },
    {
     "name": "stdout",
     "output_type": "stream",
     "text": [
      "===== Processing group:(-1.0, 7199.0] , group number:1=====\n",
      "===== Processing group:(7199.0, 14399.0] , group number:2=====\n",
      "===== Processing group:(14399.0, 21599.0] , group number:3=====\n",
      "===== Processing group:(21599.0, 28799.0] , group number:4=====\n",
      "Predicting group 4\n",
      "===== Processing group:(28799.0, 35999.0] , group number:5=====\n",
      "Predicting group 5\n",
      "===== Processing group:(35999.0, 43199.0] , group number:6=====\n",
      "Predicting group 6\n",
      "===== Processing group:(43199.0, 50399.0] , group number:7=====\n",
      "Predicting group 7\n",
      "===== Processing group:(50399.0, 57599.0] , group number:8=====\n",
      "Predicting group 8\n",
      "===== Processing group:(57599.0, 64799.0] , group number:9=====\n",
      "Predicting group 9\n",
      "===== Processing group:(64799.0, 71999.0] , group number:10=====\n",
      "Predicting group 10\n",
      "===== Processing group:(71999.0, 79199.0] , group number:11=====\n",
      "Predicting group 11\n",
      "===== Processing group:(79199.0, 86399.0] , group number:12=====\n",
      "Predicting group 12\n",
      "===== Processing group:(86399.0, 93599.0] , group number:13=====\n",
      "Predicting group 13\n",
      "===== Processing group:(93599.0, 100799.0] , group number:14=====\n",
      "Predicting group 14\n",
      "===== Processing group:(100799.0, 107999.0] , group number:15=====\n",
      "Predicting group 15\n",
      "===== Processing group:(107999.0, 115199.0] , group number:16=====\n",
      "Predicting group 16\n",
      "===== Processing group:(115199.0, 122399.0] , group number:17=====\n",
      "Predicting group 17\n",
      "===== Processing group:(122399.0, 129599.0] , group number:18=====\n",
      "Predicting group 18\n",
      "===== Processing group:(129599.0, 136799.0] , group number:19=====\n",
      "Predicting group 19\n",
      "===== Processing group:(136799.0, 143999.0] , group number:20=====\n",
      "Predicting group 20\n",
      "===== Processing group:(143999.0, 151199.0] , group number:21=====\n",
      "Predicting group 21\n",
      "===== Processing group:(151199.0, 158399.0] , group number:22=====\n",
      "Predicting group 22\n",
      "===== Processing group:(158399.0, 165599.0] , group number:23=====\n",
      "Predicting group 23\n",
      "===== Processing group:(165599.0, 172799.0] , group number:24=====\n",
      "Predicting group 24\n"
     ]
    },
    {
     "name": "stderr",
     "output_type": "stream",
     "text": [
      "/tmp/ipykernel_3247915/3207613218.py:37: FutureWarning: this method is deprecated in favour of `Styler.hide(axis=\"index\")`\n",
      "  dfi.export(df.style.hide_index(), f\"{result_dir}/dynamic_clf_normal_extra_feature_{results_name}_{feature_name}.png\")\n",
      "[1114/023726.130750:WARNING:sandbox_linux.cc(380)] InitializeSandbox() called with multiple threads in process gpu-process.\n",
      "[1114/023726.140950:WARNING:bluez_dbus_manager.cc(247)] Floss manager not present, cannot set Floss enable/disable.\n",
      "[1114/023726.248517:INFO:headless_shell.cc(660)] Written to file /tmp/tmpd8kaf4kz/temp.png.\n",
      "/tmp/ipykernel_3247915/3207613218.py:48: FutureWarning: The frame.append method is deprecated and will be removed from pandas in a future version. Use pandas.concat instead.\n",
      "  metrics_df = metrics_df.append(metrics,ignore_index=True)\n",
      "/tmp/ipykernel_3247915/3207613218.py:49: FutureWarning: this method is deprecated in favour of `Styler.hide(axis=\"index\")`\n",
      "  dfi.export(metrics_df.style.hide_index(), f\"{result_dir}/dynamic_clf_normal_extra_feature_{results_name}_{feature_name}_total_metrics.png\")\n",
      "[1114/023726.372127:WARNING:sandbox_linux.cc(380)] InitializeSandbox() called with multiple threads in process gpu-process.\n",
      "[1114/023726.381189:WARNING:bluez_dbus_manager.cc(247)] Floss manager not present, cannot set Floss enable/disable.\n",
      "[1114/023726.506177:INFO:headless_shell.cc(660)] Written to file /tmp/tmpsxb5_qgp/temp.png.\n"
     ]
    },
    {
     "name": "stdout",
     "output_type": "stream",
     "text": [
      "===== Processing group:(-1.0, 7199.0] , group number:1=====\n",
      "===== Processing group:(7199.0, 14399.0] , group number:2=====\n",
      "===== Processing group:(14399.0, 21599.0] , group number:3=====\n",
      "===== Processing group:(21599.0, 28799.0] , group number:4=====\n",
      "Predicting group 4\n",
      "===== Processing group:(28799.0, 35999.0] , group number:5=====\n",
      "Predicting group 5\n",
      "===== Processing group:(35999.0, 43199.0] , group number:6=====\n",
      "Predicting group 6\n",
      "===== Processing group:(43199.0, 50399.0] , group number:7=====\n",
      "Predicting group 7\n",
      "===== Processing group:(50399.0, 57599.0] , group number:8=====\n",
      "Predicting group 8\n",
      "===== Processing group:(57599.0, 64799.0] , group number:9=====\n",
      "Predicting group 9\n",
      "===== Processing group:(64799.0, 71999.0] , group number:10=====\n",
      "Predicting group 10\n",
      "===== Processing group:(71999.0, 79199.0] , group number:11=====\n",
      "Predicting group 11\n",
      "===== Processing group:(79199.0, 86399.0] , group number:12=====\n",
      "Predicting group 12\n",
      "===== Processing group:(86399.0, 93599.0] , group number:13=====\n",
      "Predicting group 13\n",
      "===== Processing group:(93599.0, 100799.0] , group number:14=====\n",
      "Predicting group 14\n",
      "===== Processing group:(100799.0, 107999.0] , group number:15=====\n",
      "Predicting group 15\n",
      "===== Processing group:(107999.0, 115199.0] , group number:16=====\n",
      "Predicting group 16\n",
      "===== Processing group:(115199.0, 122399.0] , group number:17=====\n",
      "Predicting group 17\n",
      "===== Processing group:(122399.0, 129599.0] , group number:18=====\n",
      "Predicting group 18\n",
      "===== Processing group:(129599.0, 136799.0] , group number:19=====\n",
      "Predicting group 19\n",
      "===== Processing group:(136799.0, 143999.0] , group number:20=====\n",
      "Predicting group 20\n",
      "===== Processing group:(143999.0, 151199.0] , group number:21=====\n",
      "Predicting group 21\n",
      "===== Processing group:(151199.0, 158399.0] , group number:22=====\n",
      "Predicting group 22\n",
      "===== Processing group:(158399.0, 165599.0] , group number:23=====\n",
      "Predicting group 23\n",
      "===== Processing group:(165599.0, 172799.0] , group number:24=====\n",
      "Predicting group 24\n"
     ]
    },
    {
     "name": "stderr",
     "output_type": "stream",
     "text": [
      "/tmp/ipykernel_3247915/3207613218.py:37: FutureWarning: this method is deprecated in favour of `Styler.hide(axis=\"index\")`\n",
      "  dfi.export(df.style.hide_index(), f\"{result_dir}/dynamic_clf_normal_extra_feature_{results_name}_{feature_name}.png\")\n",
      "[1114/024913.495996:WARNING:sandbox_linux.cc(380)] InitializeSandbox() called with multiple threads in process gpu-process.\n",
      "[1114/024913.508540:WARNING:bluez_dbus_manager.cc(247)] Floss manager not present, cannot set Floss enable/disable.\n",
      "[1114/024913.626419:INFO:headless_shell.cc(660)] Written to file /tmp/tmpm97bk76a/temp.png.\n",
      "/tmp/ipykernel_3247915/3207613218.py:48: FutureWarning: The frame.append method is deprecated and will be removed from pandas in a future version. Use pandas.concat instead.\n",
      "  metrics_df = metrics_df.append(metrics,ignore_index=True)\n",
      "/tmp/ipykernel_3247915/3207613218.py:49: FutureWarning: this method is deprecated in favour of `Styler.hide(axis=\"index\")`\n",
      "  dfi.export(metrics_df.style.hide_index(), f\"{result_dir}/dynamic_clf_normal_extra_feature_{results_name}_{feature_name}_total_metrics.png\")\n",
      "[1114/024913.753546:WARNING:sandbox_linux.cc(380)] InitializeSandbox() called with multiple threads in process gpu-process.\n",
      "[1114/024913.763664:WARNING:bluez_dbus_manager.cc(247)] Floss manager not present, cannot set Floss enable/disable.\n",
      "[1114/024913.895068:INFO:headless_shell.cc(660)] Written to file /tmp/tmpy4fczut1/temp.png.\n"
     ]
    },
    {
     "name": "stdout",
     "output_type": "stream",
     "text": [
      "===== Processing group:(-1.0, 7199.0] , group number:1=====\n",
      "===== Processing group:(7199.0, 14399.0] , group number:2=====\n",
      "===== Processing group:(14399.0, 21599.0] , group number:3=====\n",
      "===== Processing group:(21599.0, 28799.0] , group number:4=====\n",
      "Predicting group 4\n",
      "===== Processing group:(28799.0, 35999.0] , group number:5=====\n",
      "Predicting group 5\n",
      "===== Processing group:(35999.0, 43199.0] , group number:6=====\n",
      "Predicting group 6\n",
      "===== Processing group:(43199.0, 50399.0] , group number:7=====\n",
      "Predicting group 7\n",
      "===== Processing group:(50399.0, 57599.0] , group number:8=====\n",
      "Predicting group 8\n",
      "===== Processing group:(57599.0, 64799.0] , group number:9=====\n",
      "Predicting group 9\n",
      "===== Processing group:(64799.0, 71999.0] , group number:10=====\n",
      "Predicting group 10\n",
      "===== Processing group:(71999.0, 79199.0] , group number:11=====\n",
      "Predicting group 11\n",
      "===== Processing group:(79199.0, 86399.0] , group number:12=====\n",
      "Predicting group 12\n",
      "===== Processing group:(86399.0, 93599.0] , group number:13=====\n",
      "Predicting group 13\n",
      "===== Processing group:(93599.0, 100799.0] , group number:14=====\n",
      "Predicting group 14\n",
      "===== Processing group:(100799.0, 107999.0] , group number:15=====\n",
      "Predicting group 15\n",
      "===== Processing group:(107999.0, 115199.0] , group number:16=====\n",
      "Predicting group 16\n",
      "===== Processing group:(115199.0, 122399.0] , group number:17=====\n",
      "Predicting group 17\n",
      "===== Processing group:(122399.0, 129599.0] , group number:18=====\n",
      "Predicting group 18\n",
      "===== Processing group:(129599.0, 136799.0] , group number:19=====\n",
      "Predicting group 19\n",
      "===== Processing group:(136799.0, 143999.0] , group number:20=====\n",
      "Predicting group 20\n",
      "===== Processing group:(143999.0, 151199.0] , group number:21=====\n",
      "Predicting group 21\n",
      "===== Processing group:(151199.0, 158399.0] , group number:22=====\n",
      "Predicting group 22\n",
      "===== Processing group:(158399.0, 165599.0] , group number:23=====\n",
      "Predicting group 23\n",
      "===== Processing group:(165599.0, 172799.0] , group number:24=====\n",
      "Predicting group 24\n"
     ]
    },
    {
     "name": "stderr",
     "output_type": "stream",
     "text": [
      "/tmp/ipykernel_3247915/3207613218.py:37: FutureWarning: this method is deprecated in favour of `Styler.hide(axis=\"index\")`\n",
      "  dfi.export(df.style.hide_index(), f\"{result_dir}/dynamic_clf_normal_extra_feature_{results_name}_{feature_name}.png\")\n",
      "[1114/030109.559525:WARNING:bluez_dbus_manager.cc(247)] Floss manager not present, cannot set Floss enable/disable.\n",
      "[1114/030109.563225:WARNING:sandbox_linux.cc(380)] InitializeSandbox() called with multiple threads in process gpu-process.\n",
      "[1114/030109.706846:INFO:headless_shell.cc(660)] Written to file /tmp/tmp6l8niop1/temp.png.\n",
      "/tmp/ipykernel_3247915/3207613218.py:48: FutureWarning: The frame.append method is deprecated and will be removed from pandas in a future version. Use pandas.concat instead.\n",
      "  metrics_df = metrics_df.append(metrics,ignore_index=True)\n",
      "/tmp/ipykernel_3247915/3207613218.py:49: FutureWarning: this method is deprecated in favour of `Styler.hide(axis=\"index\")`\n",
      "  dfi.export(metrics_df.style.hide_index(), f\"{result_dir}/dynamic_clf_normal_extra_feature_{results_name}_{feature_name}_total_metrics.png\")\n",
      "[1114/030109.831519:WARNING:sandbox_linux.cc(380)] InitializeSandbox() called with multiple threads in process gpu-process.\n",
      "[1114/030109.840489:WARNING:bluez_dbus_manager.cc(247)] Floss manager not present, cannot set Floss enable/disable.\n",
      "[1114/030109.981632:INFO:headless_shell.cc(660)] Written to file /tmp/tmpwo669kq3/temp.png.\n"
     ]
    }
   ],
   "source": [
    "ablation_feature_list = ['inversed_dist', 'fraud_neighbor_count', 'community_risk','personalized_page_rank', 'normAmount']\n",
    "for f_name in ablation_feature_list:\n",
    "    ablation_test(f_name)"
   ],
   "metadata": {
    "collapsed": false
   }
  },
  {
   "cell_type": "code",
   "execution_count": null,
   "outputs": [],
   "source": [],
   "metadata": {
    "collapsed": false
   }
  }
 ],
 "metadata": {
  "kernelspec": {
   "display_name": "Python 3",
   "language": "python",
   "name": "python3"
  },
  "language_info": {
   "codemirror_mode": {
    "name": "ipython",
    "version": 2
   },
   "file_extension": ".py",
   "mimetype": "text/x-python",
   "name": "python",
   "nbconvert_exporter": "python",
   "pygments_lexer": "ipython2",
   "version": "2.7.6"
  }
 },
 "nbformat": 4,
 "nbformat_minor": 0
}
